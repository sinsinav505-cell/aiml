{
 "cells": [
  {
   "cell_type": "markdown",
   "id": "090b37d2",
   "metadata": {},
   "source": [
    "string without vowels"
   ]
  },
  {
   "cell_type": "code",
   "execution_count": 4,
   "id": "70fc7cbc",
   "metadata": {},
   "outputs": [
    {
     "name": "stdout",
     "output_type": "stream",
     "text": [
      "['try']\n"
     ]
    }
   ],
   "source": [
    "a=[\"apple\",\"orange\",\"try\"]\n",
    "b=[i for i in a if all(j not in \"aeiou\" for j in i)]\n",
    "print(b)"
   ]
  }
 ],
 "metadata": {
  "kernelspec": {
   "display_name": "Python 3",
   "language": "python",
   "name": "python3"
  },
  "language_info": {
   "codemirror_mode": {
    "name": "ipython",
    "version": 3
   },
   "file_extension": ".py",
   "mimetype": "text/x-python",
   "name": "python",
   "nbconvert_exporter": "python",
   "pygments_lexer": "ipython3",
   "version": "3.13.7"
  }
 },
 "nbformat": 4,
 "nbformat_minor": 5
}
