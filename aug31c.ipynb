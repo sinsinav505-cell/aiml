{
 "cells": [
  {
   "cell_type": "markdown",
   "id": "fedde17c",
   "metadata": {},
   "source": [
    "palindrome"
   ]
  },
  {
   "cell_type": "code",
   "execution_count": null,
   "id": "ae9d14e6",
   "metadata": {},
   "outputs": [
    {
     "name": "stdout",
     "output_type": "stream",
     "text": [
      "hsilgne\n",
      " not palindrome\n"
     ]
    }
   ],
   "source": [
    "n=str(input(\"Enter string:\"))\n",
    "s=str()\n",
    "for i in range(len(n)-1,-1,-1):\n",
    "    print(n[i],end=\"\")\n",
    "    s=s+(n[i])\n",
    "if  n==s:\n",
    "    print(\"\\n palindrome\")\n",
    "else:\n",
    "    print(\"\\n not palindrome\")\n"
   ]
  }
 ],
 "metadata": {
  "kernelspec": {
   "display_name": "Python 3",
   "language": "python",
   "name": "python3"
  },
  "language_info": {
   "codemirror_mode": {
    "name": "ipython",
    "version": 3
   },
   "file_extension": ".py",
   "mimetype": "text/x-python",
   "name": "python",
   "nbconvert_exporter": "python",
   "pygments_lexer": "ipython3",
   "version": "3.13.7"
  }
 },
 "nbformat": 4,
 "nbformat_minor": 5
}
