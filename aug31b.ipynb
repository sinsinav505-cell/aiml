{
 "cells": [
  {
   "cell_type": "markdown",
   "id": "47ebf4f3",
   "metadata": {},
   "source": [
    "Write a program to remove all spaces from a string"
   ]
  },
  {
   "cell_type": "code",
   "execution_count": null,
   "id": "6d0d742e",
   "metadata": {},
   "outputs": [
    {
     "name": "stdout",
     "output_type": "stream",
     "text": [
      "i nn\n",
      "inn"
     ]
    }
   ],
   "source": [
    "n=str(input(\"enter string\"))\n",
    "print(n)\n",
    "for i in range(len(n)):\n",
    "    if n[i]==\" \":\n",
    "        continue\n",
    "    else:\n",
    "        print(n[i],end=\"\")"
   ]
  },
  {
   "cell_type": "markdown",
   "id": "ed360e49",
   "metadata": {},
   "source": [
    "remove double space from a string "
   ]
  },
  {
   "cell_type": "code",
   "execution_count": 21,
   "id": "a550e355",
   "metadata": {},
   "outputs": [
    {
     "name": "stdout",
     "output_type": "stream",
     "text": [
      "e  b\n",
      "e b"
     ]
    }
   ],
   "source": [
    "n=str(input(\"enter string\"))\n",
    "print(n)\n",
    "for i in range(len(n)):\n",
    "    if n[i]==\" \" and n[i+1]==\" \":\n",
    "        continue\n",
    "    else:\n",
    "        print(n[i],end=\"\")"
   ]
  }
 ],
 "metadata": {
  "kernelspec": {
   "display_name": "Python 3",
   "language": "python",
   "name": "python3"
  },
  "language_info": {
   "codemirror_mode": {
    "name": "ipython",
    "version": 3
   },
   "file_extension": ".py",
   "mimetype": "text/x-python",
   "name": "python",
   "nbconvert_exporter": "python",
   "pygments_lexer": "ipython3",
   "version": "3.13.7"
  }
 },
 "nbformat": 4,
 "nbformat_minor": 5
}
