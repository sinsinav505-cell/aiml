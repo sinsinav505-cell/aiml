{
 "cells": [
  {
   "cell_type": "markdown",
   "id": "f605911e",
   "metadata": {},
   "source": [
    "Input list of numbers , find the second most highest element in the list."
   ]
  },
  {
   "cell_type": "code",
   "execution_count": null,
   "id": "91263acc",
   "metadata": {},
   "outputs": [],
   "source": [
    "n=int(input(\"Enter the count in\"))\n",
    "h=[]\n",
    "for i in range(n):\n",
    "    a=int(input())\n",
    "    h.append(a)\n",
    "print(h)\n",
    "max=0\n",
    "ll=len(h)\n",
    "for i in range(ll):\n",
    "    if h[i]>max:\n",
    "        max=h[i]\n",
    "print(max)\n",
    "print(h[-2])"
   ]
  },
  {
   "cell_type": "code",
   "execution_count": null,
   "id": "0bdfe487",
   "metadata": {},
   "outputs": [],
   "source": [
    "#second largest in a\n",
    "n=int(input(\"Enter the no of elements:\"))\n",
    "l=[]\n",
    "for i in range(n):\n",
    "    l.append(int(input(\"Enter the number\")))\n",
    "print(l)\n",
    "i=0\n",
    "while(i!=len(l)):\n",
    "    if l[i]>l[i+1]:\n",
    "        t=l[i]\n",
    "        l[i]=l[i+1]\n",
    "        l[i+1]=t\n",
    "    i=i+1\n",
    "    if i == len(l)-1:\n",
    "        break\n",
    "print(l)\n",
    "print(l[-1])\n",
    "print(l[-2])"
   ]
  },
  {
   "cell_type": "markdown",
   "id": "3af49920",
   "metadata": {},
   "source": [
    "broadcasting\n"
   ]
  },
  {
   "cell_type": "code",
   "execution_count": 8,
   "id": "e6f9e123",
   "metadata": {},
   "outputs": [
    {
     "data": {
      "text/plain": [
       "array([[3, 4, 6, 7],\n",
       "       [4, 6, 8, 7]])"
      ]
     },
     "execution_count": 8,
     "metadata": {},
     "output_type": "execute_result"
    }
   ],
   "source": [
    "import numpy as np\n",
    "a=np.array([[1,2,3,6],[2,4,5,6]])\n",
    "b=np.array([2,2,3,1])\n",
    "a+b"
   ]
  },
  {
   "cell_type": "markdown",
   "id": "d309cc84",
   "metadata": {},
   "source": [
    "tile"
   ]
  },
  {
   "cell_type": "code",
   "execution_count": 34,
   "id": "04fcb942",
   "metadata": {},
   "outputs": [
    {
     "name": "stdout",
     "output_type": "stream",
     "text": [
      "[[ 0 10  0 10]\n",
      " [ 0 10  0 10]]\n"
     ]
    }
   ],
   "source": [
    "b=np.tile(np.arange(0,20,10),(2,2)) \n",
    "print(b)   "
   ]
  },
  {
   "cell_type": "code",
   "execution_count": 35,
   "id": "10bc2c5d",
   "metadata": {},
   "outputs": [
    {
     "name": "stdout",
     "output_type": "stream",
     "text": [
      "[[ 0  0]\n",
      " [10 10]\n",
      " [ 0  0]\n",
      " [10 10]]\n"
     ]
    }
   ],
   "source": [
    "b=b.T\n",
    "print(b)"
   ]
  },
  {
   "cell_type": "code",
   "execution_count": 36,
   "id": "508d7b57",
   "metadata": {},
   "outputs": [
    {
     "data": {
      "text/plain": [
       "array([[5, 6, 7, 8],\n",
       "       [1, 2, 3, 4]])"
      ]
     },
     "execution_count": 36,
     "metadata": {},
     "output_type": "execute_result"
    }
   ],
   "source": [
    "a=np.array([[5,6,7,8],[1,2,3,4]])\n",
    "a"
   ]
  },
  {
   "cell_type": "code",
   "execution_count": 37,
   "id": "acc5c61a",
   "metadata": {},
   "outputs": [
    {
     "name": "stdout",
     "output_type": "stream",
     "text": [
      "[[5 1]\n",
      " [6 2]\n",
      " [7 3]\n",
      " [8 4]]\n"
     ]
    }
   ],
   "source": [
    "a=a.T\n",
    "print(a)"
   ]
  },
  {
   "cell_type": "code",
   "execution_count": 38,
   "id": "37b814ef",
   "metadata": {},
   "outputs": [
    {
     "data": {
      "text/plain": [
       "array([[ 5,  1],\n",
       "       [16, 12],\n",
       "       [ 7,  3],\n",
       "       [18, 14]])"
      ]
     },
     "execution_count": 38,
     "metadata": {},
     "output_type": "execute_result"
    }
   ],
   "source": [
    "a+b"
   ]
  },
  {
   "cell_type": "code",
   "execution_count": 53,
   "id": "99cd058d",
   "metadata": {},
   "outputs": [
    {
     "data": {
      "text/plain": [
       "(5,)"
      ]
     },
     "execution_count": 53,
     "metadata": {},
     "output_type": "execute_result"
    }
   ],
   "source": [
    "c=np.array([2,3,4,1,6])\n",
    "c.shape\n"
   ]
  },
  {
   "cell_type": "code",
   "execution_count": 54,
   "id": "21b98189",
   "metadata": {},
   "outputs": [
    {
     "data": {
      "text/plain": [
       "(5, 1)"
      ]
     },
     "execution_count": 54,
     "metadata": {},
     "output_type": "execute_result"
    }
   ],
   "source": [
    "c=c[ :,np.newaxis]\n",
    "c.shape"
   ]
  },
  {
   "cell_type": "markdown",
   "id": "fbd22b64",
   "metadata": {},
   "source": [
    "ravel"
   ]
  },
  {
   "cell_type": "code",
   "execution_count": 64,
   "id": "397ef12a",
   "metadata": {},
   "outputs": [
    {
     "data": {
      "text/plain": [
       "array([2, 3, 4, 6, 5, 7, 7, 8, 2])"
      ]
     },
     "execution_count": 64,
     "metadata": {},
     "output_type": "execute_result"
    }
   ],
   "source": [
    "a=np.array([[2,3,4],[6,5,7],[7,8,2]])\n",
    "a.ravel()"
   ]
  },
  {
   "cell_type": "code",
   "execution_count": 65,
   "id": "f9b2f1f6",
   "metadata": {},
   "outputs": [
    {
     "data": {
      "text/plain": [
       "array([2, 6, 7, 3, 5, 8, 4, 7, 2])"
      ]
     },
     "execution_count": 65,
     "metadata": {},
     "output_type": "execute_result"
    }
   ],
   "source": [
    "a.T.ravel()"
   ]
  },
  {
   "cell_type": "code",
   "execution_count": 66,
   "id": "0a727a8f",
   "metadata": {},
   "outputs": [
    {
     "data": {
      "text/plain": [
       "array([[2, 3, 4],\n",
       "       [6, 5, 7],\n",
       "       [7, 8, 2]])"
      ]
     },
     "execution_count": 66,
     "metadata": {},
     "output_type": "execute_result"
    }
   ],
   "source": [
    "a"
   ]
  },
  {
   "cell_type": "code",
   "execution_count": 67,
   "id": "9024f0c3",
   "metadata": {},
   "outputs": [
    {
     "data": {
      "text/plain": [
       "array([[  2,   3,   4],\n",
       "       [400,   5,   7],\n",
       "       [  7,   8,   2]])"
      ]
     },
     "execution_count": 67,
     "metadata": {},
     "output_type": "execute_result"
    }
   ],
   "source": [
    "a[1,0]=400\n",
    "a"
   ]
  },
  {
   "cell_type": "code",
   "execution_count": 69,
   "id": "e14a7035",
   "metadata": {},
   "outputs": [
    {
     "data": {
      "text/plain": [
       "array([[0, 1, 2, 3, 4, 0, 0, 0],\n",
       "       [0, 0, 0, 0, 0, 0, 0, 0],\n",
       "       [0, 0, 0, 0, 0, 0, 0, 0],\n",
       "       [0, 0, 0, 0, 0, 0, 0, 0],\n",
       "       [0, 0, 0, 0, 0, 0, 0, 0],\n",
       "       [0, 0, 0, 0, 0, 0, 0, 0],\n",
       "       [0, 0, 0, 0, 0, 0, 0, 0],\n",
       "       [0, 0, 0, 0, 0, 0, 0, 0]])"
      ]
     },
     "execution_count": 69,
     "metadata": {},
     "output_type": "execute_result"
    }
   ],
   "source": [
    "a=np.arange(5)\n",
    "a.resize((8,8))\n",
    "a"
   ]
  },
  {
   "cell_type": "code",
   "execution_count": null,
   "id": "1b9eb753",
   "metadata": {},
   "outputs": [
    {
     "data": {
      "text/plain": [
       "array([[1, 2, 4, 5],\n",
       "       [3, 4, 7, 9]])"
      ]
     },
     "execution_count": 72,
     "metadata": {},
     "output_type": "execute_result"
    }
   ],
   "source": [
    "a=np.array([[4,5,1,2],[7,3,4,9]])\n",
    "b=np.sort(a,axis=1) #row\n",
    "b"
   ]
  },
  {
   "cell_type": "code",
   "execution_count": 73,
   "id": "e3fa88e9",
   "metadata": {},
   "outputs": [
    {
     "data": {
      "text/plain": [
       "array([[4, 3, 1, 2],\n",
       "       [7, 5, 4, 9]])"
      ]
     },
     "execution_count": 73,
     "metadata": {},
     "output_type": "execute_result"
    }
   ],
   "source": [
    "a=np.array([[4,5,1,2],[7,3,4,9]])\n",
    "b=np.sort(a,axis=0) #column\n",
    "b"
   ]
  },
  {
   "cell_type": "code",
   "execution_count": null,
   "id": "421adaa8",
   "metadata": {},
   "outputs": [
    {
     "data": {
      "text/plain": [
       "array([4, 2, 0, 3, 1])"
      ]
     },
     "execution_count": 74,
     "metadata": {},
     "output_type": "execute_result"
    }
   ],
   "source": [
    "a=np.array([4,8,2,5,1])  #returns the index of sorted numbers\n",
    "b=np.argsort(a)\n",
    "b"
   ]
  },
  {
   "cell_type": "code",
   "execution_count": 75,
   "id": "705e867b",
   "metadata": {},
   "outputs": [
    {
     "data": {
      "text/plain": [
       "array([1, 2, 4, 5, 8])"
      ]
     },
     "execution_count": 75,
     "metadata": {},
     "output_type": "execute_result"
    }
   ],
   "source": [
    "a[b]"
   ]
  }
 ],
 "metadata": {
  "kernelspec": {
   "display_name": "Python 3",
   "language": "python",
   "name": "python3"
  },
  "language_info": {
   "codemirror_mode": {
    "name": "ipython",
    "version": 3
   },
   "file_extension": ".py",
   "mimetype": "text/x-python",
   "name": "python",
   "nbconvert_exporter": "python",
   "pygments_lexer": "ipython3",
   "version": "3.13.7"
  }
 },
 "nbformat": 4,
 "nbformat_minor": 5
}
