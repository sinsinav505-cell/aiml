{
 "cells": [
  {
   "cell_type": "markdown",
   "id": "1c6567a1",
   "metadata": {},
   "source": [
    "Data Analyst\n",
    "\n",
    "exploring knowledge and insight from data into business logic."
   ]
  },
  {
   "cell_type": "markdown",
   "id": "c96e1106",
   "metadata": {},
   "source": [
    "Lifecycle :-\n",
    "\n",
    "business understanding\n",
    "\n",
    "data mining\n",
    "\n",
    "data cleaning\n",
    "\n",
    "data exploration\n",
    "\n",
    "machine learning\n",
    "\n",
    "visualize\n",
    "\n",
    "deploy"
   ]
  },
  {
   "cell_type": "markdown",
   "id": "51e29424",
   "metadata": {},
   "source": [
    "statistics - predicting future by past events"
   ]
  },
  {
   "cell_type": "code",
   "execution_count": null,
   "id": "b691194c",
   "metadata": {},
   "outputs": [],
   "source": []
  }
 ],
 "metadata": {
  "language_info": {
   "name": "python"
  }
 },
 "nbformat": 4,
 "nbformat_minor": 5
}
