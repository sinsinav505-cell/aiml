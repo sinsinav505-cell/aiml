{
 "cells": [
  {
   "cell_type": "code",
   "execution_count": null,
   "id": "83d217c0",
   "metadata": {},
   "outputs": [
    {
     "name": "stdout",
     "output_type": "stream",
     "text": [
      "Bob\n"
     ]
    }
   ],
   "source": [
    "#Accessing protected from subclass\n",
    "\n",
    "\n",
    "class Person:\n",
    "    def __init__(self, name):\n",
    "        self._name = name  # protected\n",
    "\n",
    "class Student(Person):\n",
    "    def display(self):\n",
    "        print(self._name)  # Accessible in subclass\n",
    "\n",
    "s = Student(\"Bob\")\n",
    "print(s._name)  "
   ]
  },
  {
   "cell_type": "code",
   "execution_count": 25,
   "id": "636519b4",
   "metadata": {},
   "outputs": [
    {
     "name": "stdout",
     "output_type": "stream",
     "text": [
      "Top Secret\n"
     ]
    }
   ],
   "source": [
    "#Accessing private from other class\n",
    "\n",
    "class A:\n",
    "    def __init__(self):\n",
    "        self.__secret = \"Top Secret\"\n",
    "\n",
    "class B:\n",
    "    def reveal(self, obj):\n",
    "        # Accessing private member using name mangling\n",
    "        print(obj._A__secret)\n",
    "\n",
    "a = A()\n",
    "b = B()\n",
    "b.reveal(a)"
   ]
  },
  {
   "cell_type": "code",
   "execution_count": null,
   "id": "504283aa",
   "metadata": {},
   "outputs": [
    {
     "name": "stdout",
     "output_type": "stream",
     "text": [
      "honda\n",
      "GTR\n",
      "Lamborgini\n"
     ]
    }
   ],
   "source": [
    "#polymorphism\n",
    "\n",
    "class vehicle:\n",
    "    def car(self):\n",
    "        print(\"honda\")\n",
    "\n",
    "class vehicle2:\n",
    "    def car(self):\n",
    "        print(\"GTR\")\n",
    "\n",
    "class vehicle3:\n",
    "    def car(self):\n",
    "        print(\"Lamborgini\")\n",
    "\n",
    "def main(obj):\n",
    "    obj.car()\n",
    "\n",
    "main(vehicle())\n",
    "main(vehicle2())\n",
    "main(vehicle3())"
   ]
  },
  {
   "cell_type": "code",
   "execution_count": null,
   "id": "e1c026a5",
   "metadata": {},
   "outputs": [
    {
     "name": "stdout",
     "output_type": "stream",
     "text": [
      "Krish\n",
      "500000\n",
      "600000 is deposited.New balance is1100000\n",
      "None\n",
      "100000is withdrawn.New Blance is 1000000\n",
      "None\n",
      "1000000\n"
     ]
    },
    {
     "ename": "AttributeError",
     "evalue": "'BankAccount' object attribute 'deposit' is read-only",
     "output_type": "error",
     "traceback": [
      "\u001b[31m---------------------------------------------------------------------------\u001b[39m",
      "\u001b[31mAttributeError\u001b[39m                            Traceback (most recent call last)",
      "\u001b[36mCell\u001b[39m\u001b[36m \u001b[39m\u001b[32mIn[33]\u001b[39m\u001b[32m, line 28\u001b[39m\n\u001b[32m     26\u001b[39m \u001b[38;5;28mprint\u001b[39m(act.withdraw(\u001b[32m100000\u001b[39m))\n\u001b[32m     27\u001b[39m \u001b[38;5;28mprint\u001b[39m(act.get_balance())\n\u001b[32m---> \u001b[39m\u001b[32m28\u001b[39m \u001b[43mact\u001b[49m\u001b[43m.\u001b[49m\u001b[43mdeposit\u001b[49m=\u001b[32m10\u001b[39m\n",
      "\u001b[31mAttributeError\u001b[39m: 'BankAccount' object attribute 'deposit' is read-only"
     ]
    }
   ],
   "source": [
    "# error bcz slot is used\n",
    "\n",
    "\n",
    "class BankAccount:\n",
    "  __slots__ = ['owner','balance']\n",
    "\n",
    "  def __init__(self,owner,balance=0):\n",
    "    self.owner=owner\n",
    "    self.balance=balance\n",
    "  def deposit(self,amount):\n",
    "    self.balance+=amount\n",
    "    print(f\"{amount} is deposited.New balance is{self.balance}\")\n",
    "  def withdraw(self,amount):\n",
    "    if amount>self.balance:\n",
    "      print(\"Insufficient funds\")\n",
    "    else:\n",
    "      self.balance-=amount\n",
    "      print(f\"{amount}is withdrawn.New Blance is {self.balance}\")\n",
    "  def get_balance(self):\n",
    "    return self.balance\n",
    "\n",
    "act=BankAccount(\"Krish\",500000)\n",
    "print(act.owner)\n",
    "print(act.balance)\n",
    "print(act.deposit(600000))\n",
    "print(act.withdraw(100000))\n",
    "print(act.get_balance())\n",
    "act.deposit=10"
   ]
  }
 ],
 "metadata": {
  "kernelspec": {
   "display_name": "Python 3",
   "language": "python",
   "name": "python3"
  },
  "language_info": {
   "codemirror_mode": {
    "name": "ipython",
    "version": 3
   },
   "file_extension": ".py",
   "mimetype": "text/x-python",
   "name": "python",
   "nbconvert_exporter": "python",
   "pygments_lexer": "ipython3",
   "version": "3.13.7"
  }
 },
 "nbformat": 4,
 "nbformat_minor": 5
}
