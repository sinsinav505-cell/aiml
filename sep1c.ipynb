{
 "cells": [
  {
   "cell_type": "markdown",
   "id": "0c20d6c7",
   "metadata": {},
   "source": [
    "printing capital letter words in a list using list comprehensation"
   ]
  },
  {
   "cell_type": "code",
   "execution_count": 7,
   "id": "5e98afed",
   "metadata": {},
   "outputs": [
    {
     "name": "stdout",
     "output_type": "stream",
     "text": [
      "['Python', 'India']\n"
     ]
    }
   ],
   "source": [
    "a=[\"Python is fun in India\"]\n",
    "b=[j for i in a  for j in i.split() for k in j if k[0]==k[0].upper()]\n",
    "print(b)"
   ]
  }
 ],
 "metadata": {
  "kernelspec": {
   "display_name": "Python 3",
   "language": "python",
   "name": "python3"
  },
  "language_info": {
   "codemirror_mode": {
    "name": "ipython",
    "version": 3
   },
   "file_extension": ".py",
   "mimetype": "text/x-python",
   "name": "python",
   "nbconvert_exporter": "python",
   "pygments_lexer": "ipython3",
   "version": "3.13.7"
  }
 },
 "nbformat": 4,
 "nbformat_minor": 5
}
