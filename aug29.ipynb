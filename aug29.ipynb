{
 "cells": [
  {
   "cell_type": "markdown",
   "id": "06e85aea",
   "metadata": {},
   "source": [
    "multiples of a number"
   ]
  },
  {
   "cell_type": "code",
   "execution_count": null,
   "id": "ca31bbfd",
   "metadata": {},
   "outputs": [
    {
     "name": "stdout",
     "output_type": "stream",
     "text": [
      "2\n",
      "4\n",
      "6\n"
     ]
    }
   ],
   "source": [
    "#multiples of a number\n",
    "n=int(input(\"Enter a number\"))\n",
    "f=0\n",
    "for i in range(n+1):\n",
    "    f=f+1\n",
    "    print(f*n)"
   ]
  },
  {
   "cell_type": "markdown",
   "id": "b755963d",
   "metadata": {},
   "source": [
    "factorial of a number"
   ]
  },
  {
   "cell_type": "code",
   "execution_count": 107,
   "id": "ec53f3f6",
   "metadata": {},
   "outputs": [
    {
     "name": "stdout",
     "output_type": "stream",
     "text": [
      "number is: 0\n",
      "no factorial\n"
     ]
    }
   ],
   "source": [
    "#1\n",
    "n=int(input(\"Enter a number\"))\n",
    "print(\"number is:\",n)\n",
    "f=1\n",
    "if n==0:\n",
    "    print(\"no factorial\")\n",
    "else:\n",
    "    for i in range(1,n+1):\n",
    "        f=f*i\n",
    "    print(\"factorial is\",f)"
   ]
  },
  {
   "cell_type": "markdown",
   "id": "472b3128",
   "metadata": {},
   "source": [
    "2. find prime number from a list"
   ]
  },
  {
   "cell_type": "code",
   "execution_count": 122,
   "id": "ad82e31e",
   "metadata": {},
   "outputs": [
    {
     "name": "stdout",
     "output_type": "stream",
     "text": [
      "2\n",
      "3\n",
      "7\n",
      "11\n"
     ]
    }
   ],
   "source": [
    "#2\n",
    "l=[1,8,2,3,7,9,10,11]\n",
    "for i in range(len(l)):\n",
    "    if l[i]%2==0:\n",
    "        if l[i]==2:\n",
    "            print(l[i])\n",
    "        else:\n",
    "            continue\n",
    "    elif l[i]==1:\n",
    "        continue\n",
    "    elif l[i]%3==0:\n",
    "        if l[i]==3:\n",
    "            print(l[i])\n",
    "        else:\n",
    "            continue\n",
    "    else:\n",
    "        print(l[i])\n"
   ]
  },
  {
   "cell_type": "markdown",
   "id": "dc5ec6c9",
   "metadata": {},
   "source": [
    "3.Replace the prime numbers with zero"
   ]
  },
  {
   "cell_type": "code",
   "execution_count": 126,
   "id": "37f7f169",
   "metadata": {},
   "outputs": [
    {
     "name": "stdout",
     "output_type": "stream",
     "text": [
      "1\n",
      "8\n",
      "0\n",
      "0\n",
      "0\n",
      "9\n",
      "10\n",
      "0\n"
     ]
    }
   ],
   "source": [
    "#3\n",
    "l=[1,8,2,3,7,9,10,11]\n",
    "for i in range(len(l)):\n",
    "    if l[i]%2==0:\n",
    "        if l[i]==2:\n",
    "            print(\"0\")\n",
    "        else:\n",
    "            print(l[i])\n",
    "    elif l[i]==1:\n",
    "        print(l[i])\n",
    "    elif l[i]%3==0:\n",
    "        if l[i]==3:\n",
    "            print(\"0\")\n",
    "        else:\n",
    "            print(l[i])\n",
    "    else:\n",
    "        print(\"0\")"
   ]
  },
  {
   "cell_type": "code",
   "execution_count": null,
   "id": "548a98dd",
   "metadata": {},
   "outputs": [
    {
     "name": "stdout",
     "output_type": "stream",
     "text": [
      "\n",
      "*\n",
      "**\n",
      "***\n",
      "\n",
      "*\n",
      "**\n",
      "***\n",
      "****\n"
     ]
    }
   ],
   "source": [
    "#4\n",
    "n=int(input(\"Enter the number\"))\n",
    "a=input(\"Enter the symbol\") \n",
    "for i in range(n+1):\n",
    "    print(a*i)\n",
    "    if i==n:\n",
    "        n1=int(input(\"Enter the number\"))\n",
    "        a1=input(\"Enter the symbol\")\n",
    "        for i in range(n1+1):\n",
    "            print(a1*i)"
   ]
  }
 ],
 "metadata": {
  "kernelspec": {
   "display_name": "Python 3",
   "language": "python",
   "name": "python3"
  },
  "language_info": {
   "codemirror_mode": {
    "name": "ipython",
    "version": 3
   },
   "file_extension": ".py",
   "mimetype": "text/x-python",
   "name": "python",
   "nbconvert_exporter": "python",
   "pygments_lexer": "ipython3",
   "version": "3.13.7"
  }
 },
 "nbformat": 4,
 "nbformat_minor": 5
}
