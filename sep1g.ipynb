{
 "cells": [
  {
   "cell_type": "markdown",
   "id": "988c0667",
   "metadata": {},
   "source": [
    "given a list of words,create a new list with words that contain atleast one vowel."
   ]
  },
  {
   "cell_type": "code",
   "execution_count": 10,
   "id": "831c6c99",
   "metadata": {},
   "outputs": [
    {
     "name": "stdout",
     "output_type": "stream",
     "text": [
      "['apple', 'orange']\n"
     ]
    }
   ],
   "source": [
    "a=[\"apple\",\"orange\",\"dry\"]\n",
    "b=[i for i in a if any(j in \"aeiou\" for j in i)]\n",
    "print(b)"
   ]
  }
 ],
 "metadata": {
  "kernelspec": {
   "display_name": "Python 3",
   "language": "python",
   "name": "python3"
  },
  "language_info": {
   "codemirror_mode": {
    "name": "ipython",
    "version": 3
   },
   "file_extension": ".py",
   "mimetype": "text/x-python",
   "name": "python",
   "nbconvert_exporter": "python",
   "pygments_lexer": "ipython3",
   "version": "3.13.7"
  }
 },
 "nbformat": 4,
 "nbformat_minor": 5
}
