{
 "cells": [
  {
   "cell_type": "markdown",
   "id": "20af7083",
   "metadata": {},
   "source": [
    "getter , setter"
   ]
  },
  {
   "cell_type": "markdown",
   "id": "423599ee",
   "metadata": {},
   "source": [
    "getter= a method used to access(read)the value of a private variable.\n",
    "setter= a method used to update(write)the value of a private variable."
   ]
  },
  {
   "cell_type": "code",
   "execution_count": 12,
   "id": "6ffddc48",
   "metadata": {},
   "outputs": [],
   "source": [
    "class Person:\n",
    "    def __init__(self,name,age):\n",
    "        self.__name=name\n",
    "        self.__age=age\n",
    "\n",
    "    def get_name(self):\n",
    "        return self.__name\n",
    "    \n",
    "    def get_age(self):\n",
    "        return self.__age\n",
    "    \n",
    "    def set_name(self,name):\n",
    "        self.__name=name\n",
    "\n",
    "    def set_age(self,age):\n",
    "        self.__age=age\n"
   ]
  },
  {
   "cell_type": "code",
   "execution_count": 13,
   "id": "aaf4eb4f",
   "metadata": {},
   "outputs": [
    {
     "data": {
      "text/plain": [
       "5"
      ]
     },
     "execution_count": 13,
     "metadata": {},
     "output_type": "execute_result"
    }
   ],
   "source": [
    "class Student:\n",
    "    def __init__(self,name,grade):\n",
    "        self.__name=name\n",
    "        self.__grade=grade\n",
    "\n",
    "    def get_grade(self):\n",
    "        return self.__grade\n",
    "    \n",
    "    def set_grade(self,grade):\n",
    "        self.__grade=grade\n",
    "\n",
    "s=Student(\"AA\",4)\n",
    "s.get_grade()\n",
    "s.set_grade(5)\n",
    "s.get_grade()\n",
    "    \n"
   ]
  },
  {
   "cell_type": "code",
   "execution_count": null,
   "id": "169638b5",
   "metadata": {},
   "outputs": [
    {
     "name": "stdout",
     "output_type": "stream",
     "text": [
      "5\n",
      "15\n"
     ]
    }
   ],
   "source": [
    "class Calculator:\n",
    "    def add(self,*args):    #multiple arguments\n",
    "        return sum(args)\n",
    "    \n",
    "calc=Calculator()\n",
    "\n",
    "print(calc.add(5))\n",
    "print(calc.add(5,10))"
   ]
  },
  {
   "cell_type": "code",
   "execution_count": 38,
   "id": "6e850e13",
   "metadata": {},
   "outputs": [
    {
     "name": "stdout",
     "output_type": "stream",
     "text": [
      "8\n"
     ]
    }
   ],
   "source": [
    "\n",
    "class Calculator:\n",
    "    s=0\n",
    "    def add(self,*args):\n",
    "        \n",
    "        for i in args:                \n",
    "            Calculator.s=i+Calculator.s     #classmethod\n",
    "        print(Calculator.s)\n",
    "    \n",
    "calc=Calculator()\n",
    "calc.add(2,4,2)\n",
    "\n"
   ]
  },
  {
   "cell_type": "code",
   "execution_count": 36,
   "id": "994e342f",
   "metadata": {},
   "outputs": [
    {
     "name": "stdout",
     "output_type": "stream",
     "text": [
      "keyword arguments received: {'a': 5}\n",
      "5\n",
      "keyword arguments received: {'b': 7, 'c': 10, 'f': 20}\n",
      "37\n"
     ]
    }
   ],
   "source": [
    "#keyword arguments\n",
    "\n",
    "class Calculator:\n",
    "    def add(self,**kwargs):\n",
    "        print(\"keyword arguments received:\",kwargs)\n",
    "        return sum(kwargs.values())\n",
    "    \n",
    "calc=Calculator()\n",
    "\n",
    "print(calc.add(a=5))\n",
    "print(calc.add(b=7,c=10,f=20))"
   ]
  }
 ],
 "metadata": {
  "kernelspec": {
   "display_name": "Python 3",
   "language": "python",
   "name": "python3"
  },
  "language_info": {
   "codemirror_mode": {
    "name": "ipython",
    "version": 3
   },
   "file_extension": ".py",
   "mimetype": "text/x-python",
   "name": "python",
   "nbconvert_exporter": "python",
   "pygments_lexer": "ipython3",
   "version": "3.13.7"
  }
 },
 "nbformat": 4,
 "nbformat_minor": 5
}
