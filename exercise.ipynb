{
 "cells": [
  {
   "cell_type": "markdown",
   "id": "c1a2de42",
   "metadata": {},
   "source": [
    "create a 1D array containing all even numbers between 10 and 100."
   ]
  },
  {
   "cell_type": "code",
   "execution_count": 3,
   "id": "8da16343",
   "metadata": {},
   "outputs": [
    {
     "name": "stdout",
     "output_type": "stream",
     "text": [
      "[ 10  12  14  16  18  20  22  24  26  28  30  32  34  36  38  40  42  44\n",
      "  46  48  50  52  54  56  58  60  62  64  66  68  70  72  74  76  78  80\n",
      "  82  84  86  88  90  92  94  96  98 100]\n"
     ]
    }
   ],
   "source": [
    "import numpy as np\n",
    "a=np.arange(10,101,2)\n",
    "print(a)"
   ]
  },
  {
   "cell_type": "markdown",
   "id": "f11866de",
   "metadata": {},
   "source": [
    "create a 5*5 numpy array filled with multiple of 3."
   ]
  },
  {
   "cell_type": "code",
   "execution_count": 33,
   "id": "c1e0d6dc",
   "metadata": {},
   "outputs": [
    {
     "data": {
      "text/plain": [
       "array([[ 3,  6,  9, 12, 15],\n",
       "       [18, 21, 24, 27, 30],\n",
       "       [33, 36, 39, 42, 45],\n",
       "       [48, 51, 54, 57, 60],\n",
       "       [63, 66, 69, 72, 75]])"
      ]
     },
     "execution_count": 33,
     "metadata": {},
     "output_type": "execute_result"
    }
   ],
   "source": [
    "a=np.arange(3,3*25+1,3).reshape(5,5)\n",
    "a"
   ]
  },
  {
   "cell_type": "code",
   "execution_count": 35,
   "id": "0c176a8e",
   "metadata": {},
   "outputs": [
    {
     "data": {
      "text/plain": [
       "array([[ 3,  6,  9, 12, 15],\n",
       "       [18, 21, 24, 27, 30],\n",
       "       [33, 36, 39, 42, 45],\n",
       "       [48, 51, 54, 57, 60],\n",
       "       [63, 66, 69, 72, 75]])"
      ]
     },
     "execution_count": 35,
     "metadata": {},
     "output_type": "execute_result"
    }
   ],
   "source": [
    "a=np.arange(3,76,3).reshape(5,5)\n",
    "a\n"
   ]
  },
  {
   "cell_type": "markdown",
   "id": "e661ff26",
   "metadata": {},
   "source": [
    "Generate a 4*4 matrix where the diagonal values are 1 and the rest are 0"
   ]
  },
  {
   "cell_type": "code",
   "execution_count": 36,
   "id": "2ac18b33",
   "metadata": {},
   "outputs": [
    {
     "data": {
      "text/plain": [
       "array([[1., 0., 0., 0.],\n",
       "       [0., 1., 0., 0.],\n",
       "       [0., 0., 1., 0.],\n",
       "       [0., 0., 0., 1.]])"
      ]
     },
     "execution_count": 36,
     "metadata": {},
     "output_type": "execute_result"
    }
   ],
   "source": [
    "a=np.eye(4)\n",
    "a"
   ]
  },
  {
   "cell_type": "markdown",
   "id": "10e6f5e1",
   "metadata": {},
   "source": [
    "Create a 3D array of shape (2,3,4) filled with random integers from 0 to 20."
   ]
  },
  {
   "cell_type": "code",
   "execution_count": 43,
   "id": "58d6a461",
   "metadata": {},
   "outputs": [
    {
     "data": {
      "text/plain": [
       "array([[[10, 13, 10,  6],\n",
       "        [ 1, 16, 17,  4],\n",
       "        [17, 12,  2,  6]],\n",
       "\n",
       "       [[17,  0, 17,  4],\n",
       "        [13,  2, 12,  2],\n",
       "        [18, 17,  0, 19]]], dtype=int32)"
      ]
     },
     "execution_count": 43,
     "metadata": {},
     "output_type": "execute_result"
    }
   ],
   "source": [
    "a=np.random.randint(0,20,size=(2,3,4))\n",
    "a"
   ]
  },
  {
   "cell_type": "markdown",
   "id": "51c097a2",
   "metadata": {},
   "source": [
    "Reshape 1D array of 30 elements into shape (5,2,3) and print it's shape."
   ]
  },
  {
   "cell_type": "code",
   "execution_count": 48,
   "id": "06a8db64",
   "metadata": {},
   "outputs": [
    {
     "name": "stdout",
     "output_type": "stream",
     "text": [
      "[[[ 0  1  2]\n",
      "  [ 3  4  5]]\n",
      "\n",
      " [[ 6  7  8]\n",
      "  [ 9 10 11]]\n",
      "\n",
      " [[12 13 14]\n",
      "  [15 16 17]]\n",
      "\n",
      " [[18 19 20]\n",
      "  [21 22 23]]\n",
      "\n",
      " [[24 25 26]\n",
      "  [27 28 29]]]\n"
     ]
    }
   ],
   "source": [
    "ar=np.arange(30).reshape(5,2,3)\n",
    "print(ar)"
   ]
  },
  {
   "cell_type": "markdown",
   "id": "4ad99c7d",
   "metadata": {},
   "source": [
    "Create an array of 10 evenly spaced between 5 and 15"
   ]
  },
  {
   "cell_type": "code",
   "execution_count": 50,
   "id": "1b7c8e6e",
   "metadata": {},
   "outputs": [
    {
     "data": {
      "text/plain": [
       "array([ 5.        ,  6.11111111,  7.22222222,  8.33333333,  9.44444444,\n",
       "       10.55555556, 11.66666667, 12.77777778, 13.88888889, 15.        ])"
      ]
     },
     "execution_count": 50,
     "metadata": {},
     "output_type": "execute_result"
    }
   ],
   "source": [
    "a1=np.linspace(5,15,10)\n",
    "a1"
   ]
  },
  {
   "cell_type": "markdown",
   "id": "639303be",
   "metadata": {},
   "source": [
    "Input list of numbers , find the second most highest element in the list."
   ]
  },
  {
   "cell_type": "code",
   "execution_count": null,
   "id": "c6fa1752",
   "metadata": {},
   "outputs": [
    {
     "name": "stdout",
     "output_type": "stream",
     "text": [
      "['1', '2', '3', '4', '6']\n"
     ]
    },
    {
     "ename": "TypeError",
     "evalue": "unsupported operand type(s) for -: 'list' and 'int'",
     "output_type": "error",
     "traceback": [
      "\u001b[31m---------------------------------------------------------------------------\u001b[39m",
      "\u001b[31mTypeError\u001b[39m                                 Traceback (most recent call last)",
      "\u001b[36mCell\u001b[39m\u001b[36m \u001b[39m\u001b[32mIn[61]\u001b[39m\u001b[32m, line 4\u001b[39m\n\u001b[32m      2\u001b[39m h.sort()\n\u001b[32m      3\u001b[39m \u001b[38;5;28mprint\u001b[39m(h)\n\u001b[32m----> \u001b[39m\u001b[32m4\u001b[39m \u001b[38;5;28mprint\u001b[39m(h[\u001b[43mn\u001b[49m\u001b[43m-\u001b[49m\u001b[32;43m1\u001b[39;49m])\n",
      "\u001b[31mTypeError\u001b[39m: unsupported operand type(s) for -: 'list' and 'int'"
     ]
    }
   ],
   "source": [
    "h=list(input(\"Enter value\"))\n",
    "k=[]\n",
    "h.sort()\n",
    "print(h)\n",
    "print(h[n-1])"
   ]
  }
 ],
 "metadata": {
  "kernelspec": {
   "display_name": "Python 3",
   "language": "python",
   "name": "python3"
  },
  "language_info": {
   "codemirror_mode": {
    "name": "ipython",
    "version": 3
   },
   "file_extension": ".py",
   "mimetype": "text/x-python",
   "name": "python",
   "nbconvert_exporter": "python",
   "pygments_lexer": "ipython3",
   "version": "3.13.7"
  }
 },
 "nbformat": 4,
 "nbformat_minor": 5
}
