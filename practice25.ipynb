{
 "cells": [
  {
   "cell_type": "markdown",
   "id": "38cb6a6f",
   "metadata": {},
   "source": [
    "Write a Python program to create an array of integers and print the first and last elements"
   ]
  },
  {
   "cell_type": "code",
   "execution_count": null,
   "id": "a62368f4",
   "metadata": {},
   "outputs": [
    {
     "name": "stdout",
     "output_type": "stream",
     "text": [
      "[2, 5, 4, 3, 6, 7]\n",
      "2\n",
      "7\n"
     ]
    }
   ],
   "source": [
    "n=int(input(\"Enter how many numbers\"))\n",
    "arr=[]\n",
    "for i in range(n):\n",
    "    arr.append(int(input(\"Enter a number\")))\n",
    "print(arr)\n",
    "print(arr[0])\n",
    "print(arr[i])"
   ]
  },
  {
   "cell_type": "markdown",
   "id": "5f8bb57b",
   "metadata": {},
   "source": [
    "How do you find the length of an array in Python?"
   ]
  },
  {
   "cell_type": "code",
   "execution_count": 10,
   "id": "96cc3783",
   "metadata": {},
   "outputs": [
    {
     "name": "stdout",
     "output_type": "stream",
     "text": [
      "6\n"
     ]
    }
   ],
   "source": [
    "print(len(arr))"
   ]
  },
  {
   "cell_type": "markdown",
   "id": "131eee3a",
   "metadata": {},
   "source": [
    "Write a program to add an element at the end of an array"
   ]
  },
  {
   "cell_type": "code",
   "execution_count": 11,
   "id": "025d1a44",
   "metadata": {},
   "outputs": [
    {
     "name": "stdout",
     "output_type": "stream",
     "text": [
      "[2, 5, 4, 3, 6, 7, 9]\n"
     ]
    }
   ],
   "source": [
    "arr.append(9)\n",
    "print(arr)"
   ]
  },
  {
   "cell_type": "markdown",
   "id": "98e5f89c",
   "metadata": {},
   "source": [
    "Remove the last element from an array and remove an element by value."
   ]
  },
  {
   "cell_type": "code",
   "execution_count": 12,
   "id": "8d4c6dd9",
   "metadata": {},
   "outputs": [
    {
     "name": "stdout",
     "output_type": "stream",
     "text": [
      "[2, 5, 4, 3, 6, 7]\n"
     ]
    }
   ],
   "source": [
    "arr.remove(9)\n",
    "print(arr)"
   ]
  },
  {
   "cell_type": "code",
   "execution_count": 14,
   "id": "d9302107",
   "metadata": {},
   "outputs": [
    {
     "name": "stdout",
     "output_type": "stream",
     "text": [
      "[2, 5, 4, 3, 6]\n"
     ]
    }
   ],
   "source": [
    "arr.pop()\n",
    "print(arr)"
   ]
  },
  {
   "cell_type": "markdown",
   "id": "0e612f91",
   "metadata": {},
   "source": [
    "\n",
    "Remove an element by its index"
   ]
  },
  {
   "cell_type": "code",
   "execution_count": 15,
   "id": "703c24d4",
   "metadata": {},
   "outputs": [
    {
     "name": "stdout",
     "output_type": "stream",
     "text": [
      "[5, 4, 3, 6]\n"
     ]
    }
   ],
   "source": [
    "arr.pop(0)\n",
    "print(arr)"
   ]
  },
  {
   "cell_type": "markdown",
   "id": "fa49779e",
   "metadata": {},
   "source": [
    "Reverse an array"
   ]
  },
  {
   "cell_type": "code",
   "execution_count": 16,
   "id": "a934e3b8",
   "metadata": {},
   "outputs": [
    {
     "name": "stdout",
     "output_type": "stream",
     "text": [
      "[6, 3, 4, 5]\n"
     ]
    }
   ],
   "source": [
    "arr.reverse()\n",
    "print(arr)"
   ]
  },
  {
   "cell_type": "markdown",
   "id": "e8779ff7",
   "metadata": {},
   "source": [
    "Join two arrays together."
   ]
  },
  {
   "cell_type": "code",
   "execution_count": 18,
   "id": "79526902",
   "metadata": {},
   "outputs": [
    {
     "name": "stdout",
     "output_type": "stream",
     "text": [
      "[2, 4, 5, 6, 8, 6, 3, 4, 5]\n"
     ]
    }
   ],
   "source": [
    "arr1=([2,4,5,6,8])\n",
    "print(arr1+arr)"
   ]
  },
  {
   "cell_type": "markdown",
   "id": "0b44e9e9",
   "metadata": {},
   "source": [
    "Check if an array is sorted"
   ]
  },
  {
   "cell_type": "code",
   "execution_count": 27,
   "id": "2cace4e8",
   "metadata": {},
   "outputs": [
    {
     "name": "stdout",
     "output_type": "stream",
     "text": [
      "not sorted\n"
     ]
    }
   ],
   "source": [
    "a=([1,9,4,5])\n",
    "if a==sorted(a):\n",
    "    print(\"sorted\")\n",
    "else:\n",
    "    print(\"not sorted\")"
   ]
  }
 ],
 "metadata": {
  "kernelspec": {
   "display_name": "Python 3",
   "language": "python",
   "name": "python3"
  },
  "language_info": {
   "codemirror_mode": {
    "name": "ipython",
    "version": 3
   },
   "file_extension": ".py",
   "mimetype": "text/x-python",
   "name": "python",
   "nbconvert_exporter": "python",
   "pygments_lexer": "ipython3",
   "version": "3.13.7"
  }
 },
 "nbformat": 4,
 "nbformat_minor": 5
}
