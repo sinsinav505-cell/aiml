{
 "cells": [
  {
   "cell_type": "markdown",
   "id": "754bb043",
   "metadata": {},
   "source": [
    "function"
   ]
  },
  {
   "cell_type": "code",
   "execution_count": 2,
   "id": "9db02105",
   "metadata": {},
   "outputs": [
    {
     "name": "stdout",
     "output_type": "stream",
     "text": [
      "Hello Sinsina\n"
     ]
    }
   ],
   "source": [
    "def greet():\n",
    "    print(\"Hello Sinsina\")\n",
    "greet()"
   ]
  },
  {
   "cell_type": "code",
   "execution_count": 5,
   "id": "d8ba4633",
   "metadata": {},
   "outputs": [
    {
     "name": "stdout",
     "output_type": "stream",
     "text": [
      "Hello Sinsina\n"
     ]
    }
   ],
   "source": [
    "def greet(name):\n",
    "    print(\"Hello\",name)\n",
    "greet(\"Sinsina\")"
   ]
  },
  {
   "cell_type": "code",
   "execution_count": 6,
   "id": "09113d9e",
   "metadata": {},
   "outputs": [
    {
     "name": "stdout",
     "output_type": "stream",
     "text": [
      "sum= 9\n"
     ]
    }
   ],
   "source": [
    "def add(a,b):\n",
    "    print(\"sum=\",a+b)\n",
    "add(5,4)"
   ]
  },
  {
   "cell_type": "code",
   "execution_count": 9,
   "id": "aca7779e",
   "metadata": {},
   "outputs": [
    {
     "name": "stdout",
     "output_type": "stream",
     "text": [
      "Hello Sinsina\n"
     ]
    }
   ],
   "source": [
    "def greet(name):\n",
    "    print(f\"Hello {name}\")\n",
    "greet(\"Sinsina\")"
   ]
  },
  {
   "cell_type": "code",
   "execution_count": 10,
   "id": "07ee9ec8",
   "metadata": {},
   "outputs": [
    {
     "data": {
      "text/plain": [
       "10"
      ]
     },
     "execution_count": 10,
     "metadata": {},
     "output_type": "execute_result"
    }
   ],
   "source": [
    "def add(a,b):\n",
    "    return(a+b)\n",
    "add(5,5)"
   ]
  },
  {
   "cell_type": "code",
   "execution_count": 13,
   "id": "68d56e1e",
   "metadata": {},
   "outputs": [
    {
     "data": {
      "text/plain": [
       "25"
      ]
     },
     "execution_count": 13,
     "metadata": {},
     "output_type": "execute_result"
    }
   ],
   "source": [
    "def square(a):\n",
    "    return(a*a)\n",
    "square(5)"
   ]
  },
  {
   "cell_type": "code",
   "execution_count": 63,
   "id": "d5c96eb6",
   "metadata": {},
   "outputs": [
    {
     "name": "stdout",
     "output_type": "stream",
     "text": [
      "sum\n",
      "10\n"
     ]
    }
   ],
   "source": [
    "def add(a,b):\n",
    "    c=a+b\n",
    "    print(c)\n",
    "def sum():\n",
    "    print(\"sum\")\n",
    "    add(5,5)\n",
    "sum()"
   ]
  },
  {
   "cell_type": "code",
   "execution_count": 62,
   "id": "3512e619",
   "metadata": {},
   "outputs": [
    {
     "name": "stdout",
     "output_type": "stream",
     "text": [
      "sum\n",
      "10\n"
     ]
    }
   ],
   "source": [
    "def add(a,b):\n",
    "    c=a+b\n",
    "    return c\n",
    "def sum():\n",
    "    print(\"sum\")\n",
    "    return add(5,5)\n",
    "print(sum())"
   ]
  },
  {
   "cell_type": "markdown",
   "id": "c9e3f2e2",
   "metadata": {},
   "source": [
    "factorial"
   ]
  },
  {
   "cell_type": "code",
   "execution_count": null,
   "id": "96c9cda4",
   "metadata": {},
   "outputs": [
    {
     "name": "stdout",
     "output_type": "stream",
     "text": [
      "no is 4\n",
      "24\n"
     ]
    }
   ],
   "source": [
    "#without function\n",
    "n=int(input(\"Enter a no\"))\n",
    "print(\"no is\",n)\n",
    "f=1\n",
    "for i in range(1,n+1):\n",
    "    f=f*i\n",
    "print(f)"
   ]
  },
  {
   "cell_type": "code",
   "execution_count": null,
   "id": "bfec128a",
   "metadata": {},
   "outputs": [
    {
     "data": {
      "text/plain": [
       "24"
      ]
     },
     "execution_count": 159,
     "metadata": {},
     "output_type": "execute_result"
    }
   ],
   "source": [
    "#with function #using recursion\n",
    "def fact(n):\n",
    "    if n==1 or n==0:\n",
    "        return 1\n",
    "    else:\n",
    "        return n*fact(n-1)\n",
    "n=int(input(\"Enter a no:\"))\n",
    "fact(n)"
   ]
  },
  {
   "cell_type": "markdown",
   "id": "6f6cbcd2",
   "metadata": {},
   "source": [
    "lambda"
   ]
  },
  {
   "cell_type": "markdown",
   "id": "0c4581cd",
   "metadata": {},
   "source": [
    "list comprehension"
   ]
  },
  {
   "cell_type": "code",
   "execution_count": null,
   "id": "11e42b77",
   "metadata": {},
   "outputs": [],
   "source": [
    "#syntax\n",
    "#expression for item in iterable if condition"
   ]
  },
  {
   "cell_type": "code",
   "execution_count": 79,
   "id": "021479d0",
   "metadata": {},
   "outputs": [
    {
     "name": "stdout",
     "output_type": "stream",
     "text": [
      "[1, 4, 9, 16, 25]\n"
     ]
    }
   ],
   "source": [
    "s=[i*i for i in range(1,6)]\n",
    "print(s)"
   ]
  },
  {
   "cell_type": "code",
   "execution_count": 93,
   "id": "50fdacb6",
   "metadata": {},
   "outputs": [
    {
     "name": "stdout",
     "output_type": "stream",
     "text": [
      "[1, 3, 5]\n"
     ]
    }
   ],
   "source": [
    "n=int(input(\"Enter no\"))\n",
    "od=[i for i in range(n) if i%2==1]\n",
    "print(od)"
   ]
  },
  {
   "cell_type": "markdown",
   "id": "85af6d50",
   "metadata": {},
   "source": [
    "Given a list of strings,use a list comprehension create a new list containing a string that has more than five characters."
   ]
  },
  {
   "cell_type": "code",
   "execution_count": 103,
   "id": "126916fa",
   "metadata": {},
   "outputs": [
    {
     "name": "stdout",
     "output_type": "stream",
     "text": [
      "['orange', 'banana', 'pineapple']\n"
     ]
    }
   ],
   "source": [
    "a=['apple','orange','banana','pineapple','plum']\n",
    "b=[]\n",
    "c=[i for i in a  if len(i)>5 ]\n",
    "print(c)"
   ]
  },
  {
   "cell_type": "markdown",
   "id": "8dcf26e9",
   "metadata": {},
   "source": [
    "print only the keys in the dictionary"
   ]
  },
  {
   "cell_type": "code",
   "execution_count": 110,
   "id": "97d684e8",
   "metadata": {},
   "outputs": [
    {
     "name": "stdout",
     "output_type": "stream",
     "text": [
      "['name', 'age']\n"
     ]
    }
   ],
   "source": [
    "s={\"name\":\"Jhon\",\"age\":18}\n",
    "b=[key for key in s.keys()]\n",
    "print(b)"
   ]
  },
  {
   "cell_type": "markdown",
   "id": "e3fb5447",
   "metadata": {},
   "source": [
    "print only the names in the list"
   ]
  },
  {
   "cell_type": "code",
   "execution_count": 138,
   "id": "f2346701",
   "metadata": {},
   "outputs": [
    {
     "name": "stdout",
     "output_type": "stream",
     "text": [
      "['Jhon', 'Jane']\n"
     ]
    }
   ],
   "source": [
    "s=[{\"name\":\"Jhon\",\"age\":18},{\"name\":\"Jane\",\"age\":20}]\n",
    "b=[value for i in s for key,value in i.items() if key==\"name\" ]\n",
    "print(b)"
   ]
  },
  {
   "cell_type": "markdown",
   "id": "18443289",
   "metadata": {},
   "source": [
    "flatten a list"
   ]
  },
  {
   "cell_type": "code",
   "execution_count": 145,
   "id": "6412c96e",
   "metadata": {},
   "outputs": [
    {
     "name": "stdout",
     "output_type": "stream",
     "text": [
      "[1, 2, 3, 4, 5, 6, 7, 8, 9]\n"
     ]
    }
   ],
   "source": [
    "d=[[1,2,3],[4,5,6],[7,8,9]]\n",
    "e=[j for i in d for j in i]\n",
    "print(e)"
   ]
  }
 ],
 "metadata": {
  "kernelspec": {
   "display_name": "Python 3",
   "language": "python",
   "name": "python3"
  },
  "language_info": {
   "codemirror_mode": {
    "name": "ipython",
    "version": 3
   },
   "file_extension": ".py",
   "mimetype": "text/x-python",
   "name": "python",
   "nbconvert_exporter": "python",
   "pygments_lexer": "ipython3",
   "version": "3.13.7"
  }
 },
 "nbformat": 4,
 "nbformat_minor": 5
}
