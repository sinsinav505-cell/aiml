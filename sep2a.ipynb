{
 "cells": [
  {
   "cell_type": "markdown",
   "id": "9206bf4f",
   "metadata": {},
   "source": [
    "global and local variable"
   ]
  },
  {
   "cell_type": "code",
   "execution_count": null,
   "id": "32c1741d",
   "metadata": {},
   "outputs": [
    {
     "name": "stdout",
     "output_type": "stream",
     "text": [
      "6\n"
     ]
    }
   ],
   "source": [
    "c=2 #global\n",
    "def abc():\n",
    "    b=4 #local\n",
    "    d=c+b \n",
    "    print(d)\n",
    "abc()"
   ]
  },
  {
   "cell_type": "code",
   "execution_count": null,
   "id": "0d305285",
   "metadata": {},
   "outputs": [
    {
     "name": "stdout",
     "output_type": "stream",
     "text": [
      "sum= 5\n"
     ]
    }
   ],
   "source": [
    "#using print\n",
    "class cal:\n",
    "    def __init__(self,a,b):\n",
    "        self.a=a\n",
    "        self.b=b\n",
    "    def add(self):\n",
    "        print(f\"sum= {self.a+self.b}\")\n",
    "obj=cal(1,4)\n",
    "obj.add()\n",
    " "
   ]
  },
  {
   "cell_type": "code",
   "execution_count": null,
   "id": "d621ac1f",
   "metadata": {},
   "outputs": [
    {
     "data": {
      "text/plain": [
       "5"
      ]
     },
     "execution_count": 37,
     "metadata": {},
     "output_type": "execute_result"
    }
   ],
   "source": [
    "#using return\n",
    "class cal:\n",
    "    def __init__(self,a,b):\n",
    "        self.a=a\n",
    "        self.b=b\n",
    "    def add(self):\n",
    "        return self.a+self.b\n",
    "obj=cal(1,4)\n",
    "obj.add()\n"
   ]
  },
  {
   "cell_type": "code",
   "execution_count": 44,
   "id": "acc10f3a",
   "metadata": {},
   "outputs": [
    {
     "name": "stdout",
     "output_type": "stream",
     "text": [
      "Bugati,2000,1000000\n",
      "Toyota,2005,4000000\n"
     ]
    }
   ],
   "source": [
    "class car:\n",
    "    def __init__(self,model_name,year,price):\n",
    "        self.model_name=model_name\n",
    "        self.year=year\n",
    "        self.price=price\n",
    "    def display(self):\n",
    "        print(f\"{self.model_name},{self.year},{self.price}\")\n",
    "obj=car(\"Bugati\",2000,\"1000000\")\n",
    "obj1=car(\"Toyota\",2005,\"4000000\")\n",
    "obj.display()\n",
    "obj1.display()"
   ]
  },
  {
   "cell_type": "code",
   "execution_count": null,
   "id": "9ba8257f",
   "metadata": {},
   "outputs": [
    {
     "name": "stdout",
     "output_type": "stream",
     "text": [
      "Jhon,20,50\n"
     ]
    }
   ],
   "source": [
    "#encapsulation\n",
    "class abc:\n",
    "    def __init__(self,name,age,mark):\n",
    "        self.name=name\n",
    "        self._age=age\n",
    "        self.__mark=mark\n",
    "    def main(self):        \n",
    "        print(f\"{self.name},{self._age},{self.__mark}\") #can access\n",
    "obj=abc(\"Jhon\",20,50)\n",
    "obj.main()"
   ]
  },
  {
   "cell_type": "code",
   "execution_count": null,
   "id": "53af0826",
   "metadata": {},
   "outputs": [
    {
     "name": "stdout",
     "output_type": "stream",
     "text": [
      "Jhon\n",
      "20\n"
     ]
    },
    {
     "ename": "AttributeError",
     "evalue": "'abc' object has no attribute '__mark'",
     "output_type": "error",
     "traceback": [
      "\u001b[31m---------------------------------------------------------------------------\u001b[39m",
      "\u001b[31mAttributeError\u001b[39m                            Traceback (most recent call last)",
      "\u001b[36mCell\u001b[39m\u001b[36m \u001b[39m\u001b[32mIn[53]\u001b[39m\u001b[32m, line 11\u001b[39m\n\u001b[32m      9\u001b[39m \u001b[38;5;28mprint\u001b[39m(obj.name)\n\u001b[32m     10\u001b[39m \u001b[38;5;28mprint\u001b[39m(obj._age)\n\u001b[32m---> \u001b[39m\u001b[32m11\u001b[39m \u001b[38;5;28mprint\u001b[39m(\u001b[43mobj\u001b[49m\u001b[43m.\u001b[49m\u001b[43m__mark\u001b[49m)\n",
      "\u001b[31mAttributeError\u001b[39m: 'abc' object has no attribute '__mark'"
     ]
    }
   ],
   "source": [
    "class abc:\n",
    "    def __init__(self,name,age,mark):\n",
    "        self.name=name #public\n",
    "        self._age=age  #protected\n",
    "        self.__mark=mark #private\n",
    "    def main(self):        \n",
    "        print(f\"{self.name},{self._age},{self.__mark}\")\n",
    "obj=abc(\"Jhon\",20,50)\n",
    "print(obj.name)\n",
    "print(obj._age)\n",
    "print(obj.__mark) #cannot access bcz mark is private"
   ]
  },
  {
   "cell_type": "code",
   "execution_count": null,
   "id": "fd5b70a8",
   "metadata": {},
   "outputs": [
    {
     "name": "stdout",
     "output_type": "stream",
     "text": [
      "area is: 16\n"
     ]
    }
   ],
   "source": [
    "#abstraction\n",
    "from abc import ABC, abstractmethod\n",
    "#abstract class\n",
    "class square(ABC):\n",
    "    @abstractmethod\n",
    "    def function(self):\n",
    "        pass\n",
    "\n",
    "class area(square):\n",
    "    def function(self,a):\n",
    "        self.a=a\n",
    "        print(\"area is:\",a*a)\n",
    "obj=area()\n",
    "obj.function(4)\n"
   ]
  },
  {
   "cell_type": "code",
   "execution_count": null,
   "id": "b6f9bded",
   "metadata": {},
   "outputs": [
    {
     "name": "stdout",
     "output_type": "stream",
     "text": [
      "name:Jhon,salary:40000\n",
      "name:Jack,salary:50000,programming language:Python\n",
      "name:Sreedevi,salary:60000,team size:6\n"
     ]
    }
   ],
   "source": [
    "#Class Developer and Manager inherit class Employee\n",
    "\n",
    "class Employee():\n",
    "\n",
    "    def __init__(self,name,salary):\n",
    "        self.name=name\n",
    "        self.salary=salary\n",
    "        \n",
    "    def show_details(self):\n",
    "        print(f\"name:{self.name},salary:{self.salary}\")\n",
    "\n",
    "class Developer(Employee): #inherits class Employee\n",
    "    def __init__(self,name,salary,prgrm):\n",
    "        self.prgrm=prgrm\n",
    "        super().__init__(name,salary) #used to take name and salary from constructor __init__ \n",
    "\n",
    "    def show_details(self):\n",
    "        print(f\"name:{self.name},salary:{self.salary},programming language:{self.prgrm}\")\n",
    "\n",
    "class Manager(Employee): #inherits class Employee\n",
    "    def __init__(self,name,salary,teamsize):\n",
    "        super().__init__(name,salary)  #used to take name and salary from constructor __init__\n",
    "        self.teamsize=teamsize\n",
    "\n",
    "    def show_details(self):\n",
    "        print(f\"name:{self.name},salary:{self.salary},team size:{self.teamsize}\")\n",
    "\n",
    "\n",
    "obj=Employee(\"Jhon\",40000)\n",
    "obj.show_details()\n",
    "obj1=Developer(\"Jack\",50000,\"Python\")\n",
    "obj1.show_details()\n",
    "obj2=Manager(\"Sreedevi\",60000,6)\n",
    "obj2.show_details()\n"
   ]
  }
 ],
 "metadata": {
  "kernelspec": {
   "display_name": "Python 3",
   "language": "python",
   "name": "python3"
  },
  "language_info": {
   "codemirror_mode": {
    "name": "ipython",
    "version": 3
   },
   "file_extension": ".py",
   "mimetype": "text/x-python",
   "name": "python",
   "nbconvert_exporter": "python",
   "pygments_lexer": "ipython3",
   "version": "3.13.7"
  }
 },
 "nbformat": 4,
 "nbformat_minor": 5
}
