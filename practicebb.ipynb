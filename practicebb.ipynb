{
 "cells": [
  {
   "cell_type": "markdown",
   "id": "230fffb0",
   "metadata": {},
   "source": [
    "Write a program that takes a sentence and returns longest word and length."
   ]
  },
  {
   "cell_type": "code",
   "execution_count": 31,
   "id": "9127783c",
   "metadata": {},
   "outputs": [
    {
     "name": "stdout",
     "output_type": "stream",
     "text": [
      "iam sinsina python\n",
      "longest word is sinsina length is 7\n"
     ]
    }
   ],
   "source": [
    "a=str(input(\"Enter sentence\"))\n",
    "print(a)\n",
    "n=[]\n",
    "count=0\n",
    "n2=[]\n",
    "n3={}\n",
    "for i in range(len(a)):\n",
    "    if a[i]==\" \":\n",
    "        n2.append(count)\n",
    "        word=''.join(n)\n",
    "        n3[word]=count\n",
    "        n=[]\n",
    "        count=0\n",
    "    else:\n",
    "        n.append(a[i])\n",
    "        count=count+1\n",
    "n2.append(count)\n",
    "word=''.join(n)\n",
    "n3[word]=count\n",
    "m=0\n",
    "l=\"\"\n",
    "for word,count in n3.items():\n",
    "    if count>m:\n",
    "        m=count\n",
    "        l=word\n",
    "print(\"longest word is\",l,\"length is\",m)"
   ]
  }
 ],
 "metadata": {
  "kernelspec": {
   "display_name": "Python 3",
   "language": "python",
   "name": "python3"
  },
  "language_info": {
   "codemirror_mode": {
    "name": "ipython",
    "version": 3
   },
   "file_extension": ".py",
   "mimetype": "text/x-python",
   "name": "python",
   "nbconvert_exporter": "python",
   "pygments_lexer": "ipython3",
   "version": "3.13.7"
  }
 },
 "nbformat": 4,
 "nbformat_minor": 5
}
