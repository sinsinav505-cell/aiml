{
 "cells": [
  {
   "cell_type": "markdown",
   "id": "fe00058d",
   "metadata": {},
   "source": [
    "instance method, static method , class method"
   ]
  },
  {
   "cell_type": "code",
   "execution_count": null,
   "id": "db4665ee",
   "metadata": {},
   "outputs": [
    {
     "name": "stdout",
     "output_type": "stream",
     "text": [
      "Employee name:Jhon , Salary:50000\n"
     ]
    }
   ],
   "source": [
    "#instance method\n",
    "\n",
    "company_name=\"abc\"\n",
    "class Employee:\n",
    "    def details(self,name,salary):\n",
    "        self.name=name\n",
    "        self.salary=salary\n",
    "    def show_details(self):\n",
    "        print(f\"Employee name:{self.name} , Salary:{self.salary}\")\n",
    "emp=Employee()\n",
    "emp.details(\"Jhon\",50000)\n",
    "emp.show_details()"
   ]
  },
  {
   "cell_type": "code",
   "execution_count": 5,
   "id": "0651e777",
   "metadata": {},
   "outputs": [
    {
     "name": "stdout",
     "output_type": "stream",
     "text": [
      "Employee name:Jhon , Salary:50000\n",
      "company name:cde\n"
     ]
    }
   ],
   "source": [
    "company_name=\"abc\"\n",
    "class Employee:\n",
    "    def details(self,name,salary):\n",
    "        self.name=name     \n",
    "        self.salary=salary\n",
    "        Employee.company_name=\"cde\"\n",
    "    def show_details(self):\n",
    "        print(f\"Employee name:{self.name} , Salary:{self.salary}\")\n",
    "    def change_company(self):\n",
    "        print(f\"company name:{self.company_name}\")\n",
    "emp=Employee()\n",
    "emp.details(\"Jhon\",50000)\n",
    "emp.show_details()\n",
    "emp.change_company()"
   ]
  },
  {
   "cell_type": "code",
   "execution_count": 11,
   "id": "c6498f9d",
   "metadata": {},
   "outputs": [
    {
     "name": "stdout",
     "output_type": "stream",
     "text": [
      "Employee name:Jhon , Salary:50000\n",
      "company name:def\n"
     ]
    }
   ],
   "source": [
    "\n",
    "class Employee:\n",
    "    company_name=\"abc\"\n",
    "    def details(self,name,salary):\n",
    "        self.name=name     \n",
    "        self.salary=salary\n",
    "\n",
    "\n",
    "    def show_details(self):\n",
    "        print(f\"Employee name:{self.name} , Salary:{self.salary}\")\n",
    "\n",
    "\n",
    "    @classmethod\n",
    "    def change_company(cla):\n",
    "        cla.company_name=\"def\"\n",
    "        print(f\"company name:{cla.company_name}\")\n",
    "emp=Employee()\n",
    "emp.details(\"Jhon\",50000)\n",
    "emp.show_details()\n",
    "Employee.change_company()"
   ]
  },
  {
   "cell_type": "code",
   "execution_count": null,
   "id": "98555c75",
   "metadata": {},
   "outputs": [
    {
     "name": "stdout",
     "output_type": "stream",
     "text": [
      "Employee name:Jhon , Salary:50000\n",
      "company name:cde\n"
     ]
    },
    {
     "data": {
      "text/plain": [
       "False"
      ]
     },
     "execution_count": 16,
     "metadata": {},
     "output_type": "execute_result"
    }
   ],
   "source": [
    "class Employee:\n",
    "    company_name=\"abc\"\n",
    "    def details(self,name,salary):\n",
    "        self.name=name       #instance method\n",
    "        self.salary=salary\n",
    "\n",
    "\n",
    "    def show_details(self):\n",
    "        print(f\"Employee name:{self.name} , Salary:{self.salary}\")\n",
    "\n",
    "\n",
    "    @classmethod           #class method\n",
    "    def change_company(cls,company_name):\n",
    "        cls.company_name=company_name\n",
    "        print(f\"company name:{cls.company_name}\")\n",
    "\n",
    "    \n",
    "    @staticmethod           #static method\n",
    "    def is_valid_salary(salary):\n",
    "        return salary>0\n",
    "\n",
    "\n",
    "\n",
    "emp=Employee()\n",
    "emp.details(\"Jhon\",50000)\n",
    "emp.show_details()\n",
    "\n",
    "Employee.change_company(\"cde\")\n",
    "\n",
    "Employee.is_valid_salary(0)"
   ]
  },
  {
   "cell_type": "code",
   "execution_count": 23,
   "id": "ee6ca4db",
   "metadata": {},
   "outputs": [
    {
     "name": "stdout",
     "output_type": "stream",
     "text": [
      "Deposited:500000000 , Balance:500000000\n",
      "Interest rate:4000\n",
      "Minimum balance should be 1000\n"
     ]
    }
   ],
   "source": [
    "class BankAccount:\n",
    "\n",
    "    interest_rate=0\n",
    "\n",
    "    def __init__(self,balance=0):\n",
    "        self.balance=balance \n",
    "        #instance\n",
    "    def deposit(self,amount):\n",
    "        self.balance=amount+self.balance\n",
    "        print(f\"Deposited:{amount} , Balance:{self.balance}\")  \n",
    "\n",
    "    @classmethod                #class meethod\n",
    "    def set_interest_rate(cls,interest_rate):\n",
    "        cls.interest_rate=interest_rate\n",
    "        print(f\"Interest rate:{cls.interest_rate}\")\n",
    "\n",
    "    @staticmethod\n",
    "    def policy():\n",
    "        print(\"Minimum balance should be 1000\")\n",
    "\n",
    "bank=BankAccount()\n",
    "bank.deposit(500000000)\n",
    "\n",
    "BankAccount.set_interest_rate(4000)\n",
    "\n",
    "BankAccount.policy()"
   ]
  },
  {
   "cell_type": "code",
   "execution_count": 24,
   "id": "9a633b84",
   "metadata": {},
   "outputs": [
    {
     "name": "stdout",
     "output_type": "stream",
     "text": [
      "Employee name:Jhon , Salary:50000\n",
      "company name:def\n"
     ]
    }
   ],
   "source": [
    "\n",
    "class Employee:\n",
    "    company_name=\"abc\"\n",
    "    def details(self,name,salary):\n",
    "        self.name=name     \n",
    "        self.salary=salary\n",
    "\n",
    "\n",
    "    def show_details(self):\n",
    "        print(f\"Employee name:{self.name} , Salary:{self.salary}\")\n",
    "\n",
    "\n",
    "    @classmethod\n",
    "    def change_company(cla):\n",
    "        cla.company_name=\"def\"\n",
    "        print(f\"company name:{cla.company_name}\")\n",
    "emp=Employee()\n",
    "emp.details(\"Jhon\",50000)\n",
    "emp.show_details()\n",
    "Employee.change_company()"
   ]
  },
  {
   "cell_type": "markdown",
   "id": "729edfcb",
   "metadata": {},
   "source": [
    "Reverse a tuple"
   ]
  },
  {
   "cell_type": "code",
   "execution_count": 93,
   "id": "c41f5ca8",
   "metadata": {},
   "outputs": [
    {
     "name": "stdout",
     "output_type": "stream",
     "text": [
      "7\n",
      "6\n",
      "5\n",
      "4\n",
      "3\n"
     ]
    }
   ],
   "source": [
    "\n",
    "t=(3,4,5,6,7)\n",
    "n=len(t)\n",
    "\n",
    "for i  in range(len(t)):\n",
    "    \n",
    "    for j in range(n):\n",
    "        pass\n",
    "\n",
    "    print(t[j])\n",
    "    n=n-1\n",
    "  "
   ]
  },
  {
   "cell_type": "markdown",
   "id": "004eaae9",
   "metadata": {},
   "source": [
    "reverse a number using while loop"
   ]
  },
  {
   "cell_type": "code",
   "execution_count": 111,
   "id": "13e5e83a",
   "metadata": {},
   "outputs": [
    {
     "name": "stdout",
     "output_type": "stream",
     "text": [
      "789\n",
      "[9, 8, 7]\n"
     ]
    }
   ],
   "source": [
    "n=int(input(\"Enter no\"))\n",
    "t=[]\n",
    "print(n)\n",
    "while n>0:\n",
    "    t.append(n%10)\n",
    "    n=n//10\n",
    "print(t)\n"
   ]
  },
  {
   "cell_type": "code",
   "execution_count": 117,
   "id": "d7182f9f",
   "metadata": {},
   "outputs": [
    {
     "name": "stdout",
     "output_type": "stream",
     "text": [
      "578\n",
      "[8, 7, 5]\n"
     ]
    }
   ],
   "source": [
    "n=int(input(\"Enter no\"))\n",
    "t=[]\n",
    "print(n)\n",
    "while n>0:\n",
    "    t.append(n%10)\n",
    "    n=int(n/10)\n",
    "print(t)"
   ]
  },
  {
   "cell_type": "code",
   "execution_count": 123,
   "id": "a6759104",
   "metadata": {},
   "outputs": [
    {
     "name": "stdout",
     "output_type": "stream",
     "text": [
      "405\n",
      "5\n",
      "0\n",
      "4\n"
     ]
    }
   ],
   "source": [
    "n=int(input(\"Enter no\"))\n",
    "print(n)\n",
    "i=1\n",
    "b=1\n",
    "while i>0:\n",
    "    b=n%10\n",
    "    print(b)\n",
    "    n=int(n/10)\n",
    "    if n==0:\n",
    "        break    "
   ]
  },
  {
   "cell_type": "markdown",
   "id": "d5389c7e",
   "metadata": {},
   "source": [
    "remove duplicates from a list without using set."
   ]
  },
  {
   "cell_type": "code",
   "execution_count": 159,
   "id": "6fd1cdb2",
   "metadata": {},
   "outputs": [
    {
     "name": "stdout",
     "output_type": "stream",
     "text": [
      "[3, 4, 7, 8, 9, 2, 1, 80, 6, 40]\n"
     ]
    }
   ],
   "source": [
    "l=[3,3,3,3,4,7,8,9,2,1,1,1,1,80,3,3,3,3,3,3,6,40,7]\n",
    "l2=[]\n",
    "for i in range(len(l)):\n",
    "    if l[i] in l2:\n",
    "        continue\n",
    "    else:\n",
    "        l2.append(l[i])\n",
    "print(l2)\n"
   ]
  },
  {
   "cell_type": "code",
   "execution_count": null,
   "id": "f496d5b5",
   "metadata": {},
   "outputs": [
    {
     "name": "stdout",
     "output_type": "stream",
     "text": [
      "Employee name:Jhon , Salary:50000, Company name:HCL\n",
      "Employee name:Abin , Salary:50, Company name:G\n"
     ]
    }
   ],
   "source": [
    "\n",
    "class Employee:\n",
    "\n",
    "    def details(self,name,salary,company_name):\n",
    "        self.name=name     \n",
    "        self.salary=salary\n",
    "        self.company_name=company_name\n",
    "\n",
    "\n",
    "    def show_details(self):\n",
    "        print(f\"Employee name:{self.name} , Salary:{self.salary}, Company name:{self.company_name}\")\n",
    "\n",
    "emp=Employee()\n",
    "emp.details(\"Jhon\",50000,\"HCL\")\n",
    "emp.show_details()\n",
    "emp1=Employee()\n",
    "emp1.details(\"Abin\",50,\"G\")\n",
    "emp1.show_details()\n"
   ]
  }
 ],
 "metadata": {
  "kernelspec": {
   "display_name": "Python 3",
   "language": "python",
   "name": "python3"
  },
  "language_info": {
   "codemirror_mode": {
    "name": "ipython",
    "version": 3
   },
   "file_extension": ".py",
   "mimetype": "text/x-python",
   "name": "python",
   "nbconvert_exporter": "python",
   "pygments_lexer": "ipython3",
   "version": "3.13.7"
  }
 },
 "nbformat": 4,
 "nbformat_minor": 5
}
