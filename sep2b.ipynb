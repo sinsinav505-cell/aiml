{
 "cells": [
  {
   "cell_type": "markdown",
   "id": "f46325d3",
   "metadata": {},
   "source": [
    "write a oop prgrm to check bank details. (deposit,withdraw,balance)"
   ]
  },
  {
   "cell_type": "code",
   "execution_count": null,
   "id": "add54717",
   "metadata": {},
   "outputs": [
    {
     "name": "stdout",
     "output_type": "stream",
     "text": [
      "Deposited amount is:50\n",
      "balance is:50\n",
      "succesfull,  Balance is40\n"
     ]
    }
   ],
   "source": [
    "class bank:\n",
    "    def __init__(self):\n",
    "        self.balance=0\n",
    "\n",
    "class Deposit(bank):\n",
    "    \n",
    "    def deposit(self,amount):\n",
    "        self.balance+=amount\n",
    "        print(f\"Deposited amount is:{amount}\")\n",
    "        print(f\"balance is:{self.balance}\")\n",
    "\n",
    "class Withdraw (Deposit):\n",
    "\n",
    "    def withdraw(self,amount):\n",
    "        if self.balance>0:\n",
    "            self.balance-=amount\n",
    "            print(f\"succesfull,  Balance is{self.balance}\")\n",
    "            \n",
    "        else:\n",
    "            print(f\"Insufficient Balance , Balance is{self.balance}\")\n",
    "            \n",
    "\n",
    "\n",
    "obj1=Deposit()\n",
    "obj1.deposit(50)\n",
    "obj2=Withdraw()\n",
    "obj2.balance=obj1.balance\n",
    "obj2.withdraw(10)\n",
    "\n",
    "  #balance is already set 0, \n",
    "#so when we deposit amount , \n",
    "#balance will change, but during withdrawal balance will be again set to 0.\n",
    "#  so assign balance of deposit object to withdraw object after deposit . \n"
   ]
  }
 ],
 "metadata": {
  "kernelspec": {
   "display_name": "Python 3",
   "language": "python",
   "name": "python3"
  },
  "language_info": {
   "codemirror_mode": {
    "name": "ipython",
    "version": 3
   },
   "file_extension": ".py",
   "mimetype": "text/x-python",
   "name": "python",
   "nbconvert_exporter": "python",
   "pygments_lexer": "ipython3",
   "version": "3.13.7"
  }
 },
 "nbformat": 4,
 "nbformat_minor": 5
}
