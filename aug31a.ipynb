{
 "cells": [
  {
   "cell_type": "markdown",
   "id": "e58b5eeb",
   "metadata": {},
   "source": [
    "Count the number of vowels in a string."
   ]
  },
  {
   "cell_type": "code",
   "execution_count": 21,
   "id": "1d89233c",
   "metadata": {},
   "outputs": [
    {
     "name": "stdout",
     "output_type": "stream",
     "text": [
      "python\n",
      "vowels are: o\n",
      "1\n"
     ]
    }
   ],
   "source": [
    "n=str(input(\"Enter the string:\"))\n",
    "print(n)\n",
    "count=0\n",
    "for i in range(len(n)):\n",
    "    if n[i]=='a' or n[i]=='e' or n[i]=='i' or n[i]=='o' or n[i]=='u':\n",
    "       print(\"vowels are:\",n[i])\n",
    "       count=count+1\n",
    "print(count) "
   ]
  },
  {
   "cell_type": "code",
   "execution_count": 39,
   "id": "5529851e",
   "metadata": {},
   "outputs": [
    {
     "name": "stdout",
     "output_type": "stream",
     "text": [
      "python\n",
      "\n",
      " no of a: 0 \n",
      " no of e 0 \n",
      " no of i 0 \n",
      " no of o 1 \n",
      " no of u 0\n",
      "1\n"
     ]
    }
   ],
   "source": [
    "n=str(input(\"Enter the string:\"))\n",
    "print(n)\n",
    "count=0\n",
    "a=b=c=d=e=0\n",
    "for i in range(len(n)):\n",
    "    if n[i]=='a':\n",
    "        a=a+1\n",
    "        count=count+1\n",
    "    elif n[i]=='e':\n",
    "        b=b+1\n",
    "        count=count+1 \n",
    "    elif n[i]=='i':\n",
    "        c=c+1\n",
    "        count=count+1 \n",
    "    elif n[i]=='o':\n",
    "        d=d+1\n",
    "        count=count+1 \n",
    "    elif n[i]=='u':\n",
    "        e=e+1\n",
    "        count=count+1\n",
    "print(\"\\n no of a:\",a,\"\\n no of e\",b,\"\\n no of i\",c,\"\\n no of o\",d,\"\\n no of u\",e)\n",
    "\n",
    "    \n",
    "print(count)"
   ]
  }
 ],
 "metadata": {
  "kernelspec": {
   "display_name": "Python 3",
   "language": "python",
   "name": "python3"
  },
  "language_info": {
   "codemirror_mode": {
    "name": "ipython",
    "version": 3
   },
   "file_extension": ".py",
   "mimetype": "text/x-python",
   "name": "python",
   "nbconvert_exporter": "python",
   "pygments_lexer": "ipython3",
   "version": "3.13.7"
  }
 },
 "nbformat": 4,
 "nbformat_minor": 5
}
