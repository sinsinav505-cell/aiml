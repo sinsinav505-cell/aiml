{
 "cells": [
  {
   "cell_type": "markdown",
   "id": "bf6c3276",
   "metadata": {},
   "source": [
    "create a list of all words that start with a capital letter"
   ]
  },
  {
   "cell_type": "code",
   "execution_count": 47,
   "id": "90933ae2",
   "metadata": {},
   "outputs": [
    {
     "name": "stdout",
     "output_type": "stream",
     "text": [
      "['Python is fun in India']\n",
      "['Python', 'India']\n"
     ]
    }
   ],
   "source": [
    "l=[\"Python is fun in India\"]\n",
    "print(l)\n",
    "m=[]\n",
    "l1=[]\n",
    "for i in l:\n",
    "    m=i.split()\n",
    "    for j in m:\n",
    "        for k in j:\n",
    "            k1=k[0].upper()\n",
    "            if k1==k[0]:\n",
    "                l1.append(j)\n",
    "print(l1)\n",
    "                "
   ]
  }
 ],
 "metadata": {
  "kernelspec": {
   "display_name": "Python 3",
   "language": "python",
   "name": "python3"
  },
  "language_info": {
   "codemirror_mode": {
    "name": "ipython",
    "version": 3
   },
   "file_extension": ".py",
   "mimetype": "text/x-python",
   "name": "python",
   "nbconvert_exporter": "python",
   "pygments_lexer": "ipython3",
   "version": "3.13.7"
  }
 },
 "nbformat": 4,
 "nbformat_minor": 5
}
