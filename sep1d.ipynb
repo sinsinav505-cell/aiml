{
 "cells": [
  {
   "cell_type": "markdown",
   "id": "75f6d804",
   "metadata": {},
   "source": [
    "create a list of strings . create a new list containing the length of each string"
   ]
  },
  {
   "cell_type": "code",
   "execution_count": 12,
   "id": "cec6e64f",
   "metadata": {},
   "outputs": [
    {
     "name": "stdout",
     "output_type": "stream",
     "text": [
      "[5, 6, 5]\n"
     ]
    }
   ],
   "source": [
    "a=['apple','orange','mango']\n",
    "b=[]\n",
    "for i in a:\n",
    "    count=0\n",
    "    for j in range(len(i)):\n",
    "        count=count+1\n",
    "    b.append(count)\n",
    "    count=0\n",
    "print(b)"
   ]
  }
 ],
 "metadata": {
  "kernelspec": {
   "display_name": "Python 3",
   "language": "python",
   "name": "python3"
  },
  "language_info": {
   "codemirror_mode": {
    "name": "ipython",
    "version": 3
   },
   "file_extension": ".py",
   "mimetype": "text/x-python",
   "name": "python",
   "nbconvert_exporter": "python",
   "pygments_lexer": "ipython3",
   "version": "3.13.7"
  }
 },
 "nbformat": 4,
 "nbformat_minor": 5
}
