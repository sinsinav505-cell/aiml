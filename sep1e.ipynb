{
 "cells": [
  {
   "cell_type": "markdown",
   "id": "3b07a05c",
   "metadata": {},
   "source": [
    "printing lenth of string in a list using comprehension."
   ]
  },
  {
   "cell_type": "code",
   "execution_count": 6,
   "id": "23f44a81",
   "metadata": {},
   "outputs": [
    {
     "name": "stdout",
     "output_type": "stream",
     "text": [
      "[5, 6, 6]\n"
     ]
    }
   ],
   "source": [
    "a=[\"apple\",\"orange\",\"banana\"]\n",
    "b=[len(i) for i in a]\n",
    "print(b)"
   ]
  }
 ],
 "metadata": {
  "kernelspec": {
   "display_name": "Python 3",
   "language": "python",
   "name": "python3"
  },
  "language_info": {
   "codemirror_mode": {
    "name": "ipython",
    "version": 3
   },
   "file_extension": ".py",
   "mimetype": "text/x-python",
   "name": "python",
   "nbconvert_exporter": "python",
   "pygments_lexer": "ipython3",
   "version": "3.13.7"
  }
 },
 "nbformat": 4,
 "nbformat_minor": 5
}
