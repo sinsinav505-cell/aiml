{
 "cells": [
  {
   "cell_type": "markdown",
   "id": "f169f31b",
   "metadata": {},
   "source": [
    "odd or even"
   ]
  },
  {
   "cell_type": "code",
   "execution_count": 3,
   "id": "89a7404a",
   "metadata": {},
   "outputs": [
    {
     "name": "stdout",
     "output_type": "stream",
     "text": [
      "n is even\n"
     ]
    }
   ],
   "source": [
    "n=int(input(\"Enter a number\"))\n",
    "if n%2==0:\n",
    "    print(\"n is even\")\n",
    "else:\n",
    "    print(\"odd\")"
   ]
  },
  {
   "cell_type": "code",
   "execution_count": null,
   "id": "8385a7d2",
   "metadata": {},
   "outputs": [
    {
     "name": "stdout",
     "output_type": "stream",
     "text": [
      "0\n",
      "2\n",
      "0\n",
      "4\n",
      "0\n",
      "6\n",
      "0\n",
      "8\n"
     ]
    }
   ],
   "source": [
    "#1\n",
    "for i in range(1,5):\n",
    "    print(0)\n",
    "    print(i*2)\n",
    "       "
   ]
  },
  {
   "cell_type": "markdown",
   "id": "4194b4f0",
   "metadata": {},
   "source": [
    "sum"
   ]
  },
  {
   "cell_type": "code",
   "execution_count": null,
   "id": "acd33411",
   "metadata": {},
   "outputs": [
    {
     "name": "stdout",
     "output_type": "stream",
     "text": [
      "0\n",
      "2\n",
      "0\n",
      "4\n",
      "0\n",
      "6\n",
      "0\n",
      "8\n",
      "20\n"
     ]
    }
   ],
   "source": [
    "#2\n",
    "sum=0\n",
    "for i in range(1,5):\n",
    "    print(0)\n",
    "    a=(i*2)\n",
    "    print(a)\n",
    "    sum=sum+a\n",
    "print(sum)"
   ]
  },
  {
   "cell_type": "markdown",
   "id": "e2d092c7",
   "metadata": {},
   "source": [
    "largest"
   ]
  },
  {
   "cell_type": "code",
   "execution_count": null,
   "id": "77d51a5f",
   "metadata": {},
   "outputs": [
    {
     "name": "stdout",
     "output_type": "stream",
     "text": [
      "0\n",
      "2\n",
      "0\n",
      "4\n",
      "0\n",
      "6\n",
      "0\n",
      "8\n",
      "[2, 4, 6, 8]\n",
      "8\n"
     ]
    }
   ],
   "source": [
    "#3\n",
    "l=[]               \n",
    "for i in range(1,5):\n",
    "    print(0)\n",
    "    a=i*2\n",
    "    print(a)\n",
    "    l.append(a)\n",
    "print(l)\n",
    "count=0\n",
    "for i in range(len(l)):\n",
    "    if l[i]>count:\n",
    "        count=l[i]\n",
    "print(count)\n",
    "\n"
   ]
  },
  {
   "cell_type": "code",
   "execution_count": 3,
   "id": "970a8063",
   "metadata": {},
   "outputs": [
    {
     "name": "stdout",
     "output_type": "stream",
     "text": [
      "\n",
      "+\n",
      "++\n",
      "+++\n",
      "++++\n",
      "+++++\n"
     ]
    }
   ],
   "source": [
    "#4\n",
    "n=int(input(\"Enter the number\"))\n",
    "a=input(\"Enter the symbol\")\n",
    "for i in range(n+1):\n",
    "    print(a*i)\n"
   ]
  },
  {
   "cell_type": "code",
   "execution_count": 8,
   "id": "05149e28",
   "metadata": {},
   "outputs": [
    {
     "name": "stdout",
     "output_type": "stream",
     "text": [
      "      \n",
      "     ?\n",
      "    ??\n",
      "   ???\n",
      "  ????\n",
      " ?????\n"
     ]
    }
   ],
   "source": [
    "#5\n",
    "n=int(input(\"Enter the number\"))\n",
    "a=input(\"Enter the symbol\") \n",
    "b=\" \"\n",
    "for i in range(n+1):\n",
    "    print(b*(n-i),(a*i))\n"
   ]
  },
  {
   "cell_type": "code",
   "execution_count": 11,
   "id": "3aa6b059",
   "metadata": {},
   "outputs": [
    {
     "name": "stdout",
     "output_type": "stream",
     "text": [
      "     \n",
      "    =\n",
      "   ==\n",
      "  ===\n",
      " ====\n",
      "\n",
      "=\n",
      "==\n",
      "===\n",
      "====\n"
     ]
    }
   ],
   "source": [
    "n=int(input(\"Enter the number\"))\n",
    "a=input(\"Enter the symbol\") \n",
    "b=\" \"\n",
    "for i in range(n+1):\n",
    "    print(b*(n-i),(a*i))\n",
    "for i in range(n+1):    \n",
    "    print(a*i)"
   ]
  },
  {
   "cell_type": "code",
   "execution_count": 19,
   "id": "3e58a574",
   "metadata": {},
   "outputs": [
    {
     "name": "stdout",
     "output_type": "stream",
     "text": [
      "=====\n",
      "====\n",
      "===\n",
      "==\n",
      "=\n",
      "\n"
     ]
    }
   ],
   "source": [
    "n=int(input(\"Enter the number\"))\n",
    "a=input(\"Enter the symbol\") \n",
    "for i in range(n+1):\n",
    "    print(a*(n-i))\n"
   ]
  },
  {
   "cell_type": "code",
   "execution_count": null,
   "id": "80423ba4",
   "metadata": {},
   "outputs": [
    {
     "name": "stdout",
     "output_type": "stream",
     "text": [
      "++++++++\n",
      "+++++++\n",
      "++++++\n",
      "+++++\n",
      "++++\n",
      "+++\n",
      "++\n",
      "+\n",
      "\n",
      "\n",
      "=\n",
      "==\n",
      "===\n",
      "====\n",
      "=====\n"
     ]
    }
   ],
   "source": [
    "#different no of symbols inverted style\n",
    "n=int(input(\"Enter the number\"))\n",
    "a=input(\"Enter the symbol\") \n",
    "for i in range(n+1):\n",
    "    print(a*(n-i))\n",
    "m=int(input(\"value\"))\n",
    "b=input()\n",
    "for i in range(m+1):\n",
    "    print(b*i)"
   ]
  },
  {
   "cell_type": "code",
   "execution_count": 23,
   "id": "00fcb0df",
   "metadata": {},
   "outputs": [
    {
     "name": "stdout",
     "output_type": "stream",
     "text": [
      "++++\n",
      "+++\n",
      "++\n",
      "+\n",
      "\n",
      "\n",
      "+\n",
      "++\n",
      "+++\n",
      "++++\n"
     ]
    }
   ],
   "source": [
    "#same no of symbols inverted style\n",
    "n=int(input(\"Enter the number\"))\n",
    "a=input(\"Enter the symbol\") \n",
    "for i in range(n+1):\n",
    "    print(a*(n-i))\n",
    "    if i==n:\n",
    "        for i in range(n+1):\n",
    "            print(a*i)"
   ]
  },
  {
   "cell_type": "code",
   "execution_count": 25,
   "id": "653871e1",
   "metadata": {},
   "outputs": [
    {
     "name": "stdout",
     "output_type": "stream",
     "text": [
      "\n",
      "+\n",
      "++\n",
      "+++\n",
      "++++\n",
      "+++++\n",
      "+++++\n",
      "++++\n",
      "+++\n",
      "++\n",
      "+\n",
      "\n"
     ]
    }
   ],
   "source": [
    "n=int(input(\"Enter the number\"))\n",
    "a=input(\"Enter the symbol\") \n",
    "for i in range(n+1):\n",
    "    print(a*i)\n",
    "    if i==n:\n",
    "        for i in range(n+1):\n",
    "            print(a*(n-i))"
   ]
  },
  {
   "cell_type": "code",
   "execution_count": 37,
   "id": "e526c320",
   "metadata": {},
   "outputs": [
    {
     "name": "stdout",
     "output_type": "stream",
     "text": [
      "     \n",
      "    =\n",
      "   ==\n",
      "  ===\n",
      " ====\n",
      " ====\n",
      "  ===\n",
      "   ==\n",
      "    =\n",
      "     \n"
     ]
    }
   ],
   "source": [
    "n=int(input(\"Enter the number\"))\n",
    "a=input(\"Enter the symbol\") \n",
    "b=\" \"\n",
    "for i in range(n+1):\n",
    "    print(b*(n-i),(a*i))\n",
    "    if i==n:\n",
    "        for i in range(n+1):\n",
    "            print(b*i,(a*(n-i)))"
   ]
  },
  {
   "cell_type": "code",
   "execution_count": 27,
   "id": "14fffc29",
   "metadata": {},
   "outputs": [
    {
     "name": "stdout",
     "output_type": "stream",
     "text": [
      "[0]\n",
      "[0, 1]\n",
      "[0, 1, 2]\n",
      "[0, 1, 2, 3]\n",
      "[0, 1, 2, 3, 4]\n"
     ]
    }
   ],
   "source": [
    "#6\n",
    "\n",
    "n=int(input(\"Enter the number\"))\n",
    "l=[]\n",
    "for i in range(n+1):\n",
    "    #print(i)\n",
    "    l.append(i)\n",
    "    print(l)"
   ]
  },
  {
   "cell_type": "code",
   "execution_count": 54,
   "id": "9143f8c8",
   "metadata": {},
   "outputs": [
    {
     "name": "stdout",
     "output_type": "stream",
     "text": [
      "1\n",
      "12\n",
      "123\n",
      "1234\n"
     ]
    }
   ],
   "source": [
    "#6\n",
    "n=int(input(\"Enter the number\"))\n",
    "for i in range(1,n):\n",
    "    for j in range(1,i+1):\n",
    "        print(j,end=\"\") #print the numbers from for loop in row format\n",
    "\n",
    "    print()  # moves to next line after each row"
   ]
  },
  {
   "cell_type": "code",
   "execution_count": 57,
   "id": "56e37e91",
   "metadata": {},
   "outputs": [
    {
     "name": "stdout",
     "output_type": "stream",
     "text": [
      "1\n",
      "10\n",
      "101\n",
      "1010\n"
     ]
    }
   ],
   "source": [
    "n=int(input(\"Enter the number\"))\n",
    "for i in range(1,n):\n",
    "    for j in range(1,i+1):\n",
    "        if j%2==0:\n",
    "            print(\"0\",end=\"\")\n",
    "        else:\n",
    "            print(\"1\",end=\"\")\n",
    "\n",
    "    print() "
   ]
  }
 ],
 "metadata": {
  "kernelspec": {
   "display_name": "Python 3",
   "language": "python",
   "name": "python3"
  },
  "language_info": {
   "codemirror_mode": {
    "name": "ipython",
    "version": 3
   },
   "file_extension": ".py",
   "mimetype": "text/x-python",
   "name": "python",
   "nbconvert_exporter": "python",
   "pygments_lexer": "ipython3",
   "version": "3.13.7"
  }
 },
 "nbformat": 4,
 "nbformat_minor": 5
}
