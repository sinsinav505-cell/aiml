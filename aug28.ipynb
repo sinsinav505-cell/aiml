{
 "cells": [
  {
   "cell_type": "code",
   "execution_count": null,
   "id": "19afed8c",
   "metadata": {},
   "outputs": [
    {
     "name": "stdout",
     "output_type": "stream",
     "text": [
      "4\n",
      "16\n",
      "256\n"
     ]
    }
   ],
   "source": [
    "#square\n",
    "\n",
    "n=int(input(\"How many times\"))\n",
    "h=int(input(\"Enter number\"))\n",
    "for i in range(1,n+1):\n",
    "    for j in range(i):\n",
    "        h=h**i\n",
    "        print(h)  "
   ]
  },
  {
   "cell_type": "code",
   "execution_count": null,
   "id": "e7a7c5ff",
   "metadata": {},
   "outputs": [
    {
     "name": "stdout",
     "output_type": "stream",
     "text": [
      "2\n",
      "4\n",
      "8\n",
      "16\n",
      "32\n"
     ]
    }
   ],
   "source": [
    "#powers of a number\n",
    "\n",
    "n=int(input(\"How many times\"))\n",
    "h=int(input(\"Enter number\"))\n",
    "for i in range(1,n+1):\n",
    "    print(h**i)"
   ]
  },
  {
   "cell_type": "code",
   "execution_count": 63,
   "id": "e46a3eff",
   "metadata": {},
   "outputs": [
    {
     "name": "stdout",
     "output_type": "stream",
     "text": [
      "122333444455555\n"
     ]
    }
   ],
   "source": [
    "#a sequence where each digit is repeated an increasing number of times.\n",
    "n=int(input(\"How many times\"))\n",
    "for i in range(1,n+1):\n",
    "    for j in range(i):\n",
    "        print(i,end=\"\")\n",
    "print()\n"
   ]
  },
  {
   "cell_type": "code",
   "execution_count": 62,
   "id": "e6e892f8",
   "metadata": {},
   "outputs": [
    {
     "name": "stdout",
     "output_type": "stream",
     "text": [
      "1\n",
      "12\n",
      "123\n",
      "1234\n",
      "12345\n"
     ]
    }
   ],
   "source": [
    "n=int(input(\"How many times\"))\n",
    "for i in range(1,n+1):\n",
    "    for j in range(i+1):\n",
    "        if j==i:\n",
    "            print()\n",
    "        else:\n",
    "            print(j+1,end=\"\")"
   ]
  },
  {
   "cell_type": "code",
   "execution_count": 61,
   "id": "01bf298b",
   "metadata": {},
   "outputs": [
    {
     "name": "stdout",
     "output_type": "stream",
     "text": [
      "5\n",
      "54\n",
      "543\n",
      "5432\n",
      "54321\n"
     ]
    }
   ],
   "source": [
    "n=int(input(\"How many times\"))\n",
    "for i in range(1,n+1):\n",
    "    for j in range(i+1):\n",
    "        if j==i:\n",
    "            print()\n",
    "        else:\n",
    "            print(n-j,end=\"\")"
   ]
  },
  {
   "cell_type": "code",
   "execution_count": null,
   "id": "5e2f3c0f",
   "metadata": {},
   "outputs": [
    {
     "name": "stdout",
     "output_type": "stream",
     "text": [
      "5\n",
      "56\n",
      "567\n",
      "5678\n",
      "56789\n"
     ]
    }
   ],
   "source": [
    "n=int(input(\"How many times\"))\n",
    "for i in range(1,n+1):\n",
    "    for j in range(i+1):\n",
    "        if j==i:\n",
    "            print()\n",
    "        else:\n",
    "            print(n+j,end=\"\")"
   ]
  },
  {
   "cell_type": "code",
   "execution_count": null,
   "id": "5bf13f3f",
   "metadata": {},
   "outputs": [
    {
     "name": "stdout",
     "output_type": "stream",
     "text": [
      "4\n",
      "33\n",
      "222\n",
      "1111\n",
      "00000\n"
     ]
    }
   ],
   "source": [
    "n=int(input(\"How many times\"))\n",
    "for i in range(1,n+1):\n",
    "    for j in range(i+1):\n",
    "        if j==i:\n",
    "            print()\n",
    "        else:\n",
    "            print(n-i,end=\"\")"
   ]
  },
  {
   "cell_type": "code",
   "execution_count": 80,
   "id": "eaf4ca35",
   "metadata": {},
   "outputs": [
    {
     "name": "stdout",
     "output_type": "stream",
     "text": [
      "54321\n",
      "4321\n",
      "321\n",
      "21\n",
      "1\n",
      "\n"
     ]
    }
   ],
   "source": [
    "n=int(input(\"How many times\"))\n",
    "n=n+1\n",
    "for i in range(1,n+1):\n",
    "    n=n-1\n",
    "    for j in range(n+1):\n",
    "        if j==n:\n",
    "            print()\n",
    "        else:\n",
    "            print((n-j),end=\"\")"
   ]
  }
 ],
 "metadata": {
  "kernelspec": {
   "display_name": "Python 3",
   "language": "python",
   "name": "python3"
  },
  "language_info": {
   "codemirror_mode": {
    "name": "ipython",
    "version": 3
   },
   "file_extension": ".py",
   "mimetype": "text/x-python",
   "name": "python",
   "nbconvert_exporter": "python",
   "pygments_lexer": "ipython3",
   "version": "3.13.7"
  }
 },
 "nbformat": 4,
 "nbformat_minor": 5
}
