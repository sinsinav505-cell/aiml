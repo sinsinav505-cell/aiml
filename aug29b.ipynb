{
 "cells": [
  {
   "cell_type": "code",
   "execution_count": 22,
   "id": "7a7f086b",
   "metadata": {},
   "outputs": [
    {
     "name": "stdout",
     "output_type": "stream",
     "text": [
      "12345\n",
      "2345\n",
      "345\n",
      "45\n",
      "5\n"
     ]
    }
   ],
   "source": [
    "n=int(input(\"how many numbers:\"))\n",
    "for i in range(1,n+1):\n",
    "    for j in range(i,n+1):\n",
    "        print(j,end=\"\")\n",
    "    print()"
   ]
  },
  {
   "cell_type": "code",
   "execution_count": null,
   "id": "10244df2",
   "metadata": {},
   "outputs": [
    {
     "name": "stdout",
     "output_type": "stream",
     "text": [
      "['A', 'B', 'C', 'D', 'E']\n"
     ]
    }
   ],
   "source": [
    "#list\n",
    "n=int(input(\"How many numbers\"))\n",
    "l=[]\n",
    "for i in range(n):\n",
    "    a=input()\n",
    "    l.append(a)\n",
    "print(l)"
   ]
  },
  {
   "cell_type": "code",
   "execution_count": 38,
   "id": "e30f023b",
   "metadata": {},
   "outputs": [
    {
     "name": "stdout",
     "output_type": "stream",
     "text": [
      "['A', 'B', 'C', 'D']\n",
      "\n",
      "A\n",
      "BB\n",
      "CCC\n",
      "DDDD\n"
     ]
    }
   ],
   "source": [
    "n=int(input(\"How many numbers\"))\n",
    "l=[]\n",
    "for i in range(n):\n",
    "    a=input()\n",
    "    l.append(a)\n",
    "print(l)\n",
    "for j in range(len(l)+1):\n",
    "    print(j*(l[j-1]))"
   ]
  },
  {
   "cell_type": "code",
   "execution_count": 87,
   "id": "32397c1b",
   "metadata": {},
   "outputs": [
    {
     "name": "stdout",
     "output_type": "stream",
     "text": [
      "    \n",
      "   1\n",
      "  121\n",
      " 12321\n",
      "1234321\n"
     ]
    }
   ],
   "source": [
    "n=int(input(\"How many numbers\"))\n",
    "a=\" \"\n",
    "for i in range(1,n+1):\n",
    "    print(a*(n-i),end=\"\")\n",
    "    for j in range(1,i):\n",
    "        if j==(i-1):\n",
    "            for k in range(i-1):\n",
    "                print(j-k,end=\"\")\n",
    "        else:\n",
    "            print(j,end=\"\")\n",
    "    print()"
   ]
  },
  {
   "cell_type": "code",
   "execution_count": null,
   "id": "73964183",
   "metadata": {},
   "outputs": [
    {
     "name": "stdout",
     "output_type": "stream",
     "text": [
      "7 * 1 = 7\n",
      "7 * 2 = 14\n",
      "7 * 3 = 21\n",
      "7 * 4 = 28\n",
      "7 * 5 = 35\n",
      "7 * 6 = 42\n",
      "7 * 7 = 49\n",
      "7 * 8 = 56\n",
      "7 * 9 = 63\n",
      "7 * 10 = 70\n"
     ]
    }
   ],
   "source": [
    "#multiplication table ****\n",
    "n=int(input(\"Enter a number:\"))\n",
    "for i in range(1,11):\n",
    "    print(n,\"*\",i,\"=\",n*i)"
   ]
  },
  {
   "cell_type": "code",
   "execution_count": null,
   "id": "5052009e",
   "metadata": {},
   "outputs": [
    {
     "name": "stdout",
     "output_type": "stream",
     "text": [
      "10\n",
      "40\n",
      "60\n"
     ]
    }
   ],
   "source": [
    "#finding multiples of 5 and 10 in list *****\n",
    "l=[10,25,37,40,55,60]\n",
    "for i in range(len(l)):\n",
    "    if l[i]%5==0 and l[i]%10==0:\n",
    "        print(l[i])"
   ]
  },
  {
   "cell_type": "code",
   "execution_count": 99,
   "id": "810b36bc",
   "metadata": {},
   "outputs": [
    {
     "name": "stdout",
     "output_type": "stream",
     "text": [
      "[30, 50, 2, 3]\n",
      "30\n",
      "50\n",
      "[30, 50]\n"
     ]
    }
   ],
   "source": [
    "#list\n",
    "n=int(input(\"Enter no of elements in list\"))\n",
    "l=[]\n",
    "l1=[]\n",
    "for i in range(n):\n",
    "    a=int(input())\n",
    "    l.append(a)\n",
    "print(l)\n",
    "for j in range(len(l)):\n",
    "    if l[j]%5==0 and l[j]%10==0:\n",
    "        print(l[j])\n",
    "        l1.append(l[j])\n",
    "print(l1)"
   ]
  }
 ],
 "metadata": {
  "kernelspec": {
   "display_name": "Python 3",
   "language": "python",
   "name": "python3"
  },
  "language_info": {
   "codemirror_mode": {
    "name": "ipython",
    "version": 3
   },
   "file_extension": ".py",
   "mimetype": "text/x-python",
   "name": "python",
   "nbconvert_exporter": "python",
   "pygments_lexer": "ipython3",
   "version": "3.13.7"
  }
 },
 "nbformat": 4,
 "nbformat_minor": 5
}
