{
 "cells": [
  {
   "cell_type": "markdown",
   "id": "6a39b3c4",
   "metadata": {},
   "source": [
    "Inheritance - E-Commerce System"
   ]
  },
  {
   "cell_type": "code",
   "execution_count": 15,
   "id": "d8f9f532",
   "metadata": {},
   "outputs": [
    {
     "name": "stdout",
     "output_type": "stream",
     "text": [
      "Name:yes , Price:400 , Product warranty:two yrs , Product price:400\n",
      "Name:no , Price:800 , clothing warranty:three yrs , clothing price:800\n"
     ]
    }
   ],
   "source": [
    "class Product:\n",
    "\n",
    "    def __init__(self,name,price):\n",
    "        self.name=name\n",
    "        self.price=price\n",
    "\n",
    "class Electronics(Product):\n",
    "    def __init__(self,warranty,size,name,price):\n",
    "        self.warranty=warranty\n",
    "        self.size=size\n",
    "        super().__init__(name,price) \n",
    "\n",
    "    def display(self):\n",
    "        print(f\"Name:{self.name} , Price:{self.price} , Product warranty:{self.warranty} , Product price:{self.price}\")\n",
    "\n",
    "class Clothing(Electronics):\n",
    "\n",
    "    def __init__(self,warranty,size,name,price):\n",
    "        super().__init__(warranty,size,name,price)\n",
    "\n",
    "    def display(self):\n",
    "        print(f\"Name:{self.name} , Price:{self.price} , clothing warranty:{self.warranty} , clothing price:{self.price}\")\n",
    "\n",
    "\n",
    "\n",
    "obj=Product(\"abc\",45)\n",
    "obj1=Electronics(\"two yrs\",2,\"yes\",400)\n",
    "obj1.display()\n",
    "obj2=Clothing(\"three yrs\",44,\"no\",800)\n",
    "obj2.display()\n",
    "\n",
    "\n",
    "\n"
   ]
  },
  {
   "cell_type": "code",
   "execution_count": 23,
   "id": "98e00938",
   "metadata": {},
   "outputs": [
    {
     "name": "stdout",
     "output_type": "stream",
     "text": [
      "Name:yes , Price:400 , Product warranty:two yrs , Product price:400\n",
      "Name:no , Price:800 , clothing warranty:three yrs , clothing price:800\n",
      "Name:rr , Price5000 , Material:cement \n"
     ]
    }
   ],
   "source": [
    "#extending the system by adding a new class Furniture\n",
    "\n",
    "class Product:\n",
    "\n",
    "    def __init__(self,name,price):\n",
    "        self.name=name\n",
    "        self.price=price\n",
    "\n",
    "class Electronics(Product):\n",
    "    def __init__(self,warranty,size,name,price):\n",
    "        self.warranty=warranty\n",
    "        self.size=size\n",
    "        super().__init__(name,price) \n",
    "\n",
    "    def display(self):\n",
    "        print(f\"Name:{self.name} , Price:{self.price} , Product warranty:{self.warranty} , Product price:{self.price}\")\n",
    "\n",
    "class Clothing(Electronics):\n",
    "\n",
    "    def __init__(self,warranty,size,name,price):\n",
    "        super().__init__(warranty,size,name,price)\n",
    "\n",
    "    def display(self):\n",
    "        print(f\"Name:{self.name} , Price:{self.price} , clothing warranty:{self.warranty} , clothing price:{self.price}\")\n",
    "\n",
    "class Furniture(Product):\n",
    "\n",
    "    def __init__(self,material,name,price):\n",
    "        self.material=material\n",
    "        super().__init__(name,price)\n",
    "\n",
    "    def display(self):\n",
    "        print(f\"Name:{self.name} , Price{self.price} , Material:{self.material} \")\n",
    "\n",
    "\n",
    "\n",
    "obj=Product(\"abc\",45)\n",
    "\n",
    "obj1=Electronics(\"two yrs\",2,\"yes\",400)\n",
    "obj1.display()\n",
    "\n",
    "obj2=Clothing(\"three yrs\",44,\"no\",800)\n",
    "obj2.display()\n",
    "\n",
    "obj3=Furniture(\"cement\",\"rr\",5000,)\n",
    "obj3.display()"
   ]
  },
  {
   "cell_type": "code",
   "execution_count": 46,
   "id": "46249200",
   "metadata": {},
   "outputs": [
    {
     "name": "stdout",
     "output_type": "stream",
     "text": [
      "Full Time Employee name:Snn , Salary:50000\n",
      "Part Time Employee name:Abin , Salary -> hourly rate*hours worked:1600\n"
     ]
    }
   ],
   "source": [
    "class Employee():\n",
    "\n",
    "    def __init__(self,name,salary):\n",
    "        self.name=name\n",
    "        self.salary=salary\n",
    "\n",
    "class FTEmployee(Employee):\n",
    "    \n",
    "    def calculate_salary(self,name,salary):\n",
    "        super().__init__(name,salary)\n",
    "        print(f\"Full Time Employee name:{self.name} , Salary:{self.salary}\")\n",
    "\n",
    "class PTEmployee(Employee):\n",
    "    \n",
    "    def calculate_salary(self,name,salary,hours):\n",
    "        self.hours=hours\n",
    "        super().__init__(name,salary)\n",
    "        print(f\"Part Time Employee name:{self.name} , Salary -> hourly rate*hours worked:{self.salary*self.hours}\")\n",
    "\n",
    "\n",
    "obj=Employee(\"ssn\",5000)\n",
    "\n",
    "obj1=FTEmployee(\"rr\",55)\n",
    "obj1.calculate_salary(\"Snn\",50000)\n",
    "\n",
    "obj1=PTEmployee(\"ww\",22)\n",
    "obj1.calculate_salary(\"Abin\",200,8)        "
   ]
  },
  {
   "cell_type": "code",
   "execution_count": 75,
   "id": "4a608b97",
   "metadata": {},
   "outputs": [
    {
     "name": "stdout",
     "output_type": "stream",
     "text": [
      "Full Time Employee name:Snn , Salary:50000\n",
      "Part Time Employee name:Abin , Salary -> hourly rate*hours worked:1600\n",
      "Freelance Employee name:Anu , Salary per project:2000\n"
     ]
    }
   ],
   "source": [
    "class Employee():\n",
    "\n",
    "    def __init__(self,name,salary):\n",
    "        self.name=name\n",
    "        self.salary=salary\n",
    "\n",
    "class FTEmployee(Employee):\n",
    "    \n",
    "    def calculate_salary(self,name,salary):\n",
    "        super().__init__(name,salary)\n",
    "        print(f\"Full Time Employee name:{self.name} , Salary:{self.salary}\")\n",
    "\n",
    "class PTEmployee(Employee):\n",
    "    \n",
    "    def calculate_salary(self,name,salary,hours):\n",
    "        self.hours=hours\n",
    "        super().__init__(name,salary)\n",
    "        print(f\"Part Time Employee name:{self.name} , Salary -> hourly rate*hours worked:{self.salary*self.hours}\")\n",
    "\n",
    "\n",
    "class FLEmployee(Employee):\n",
    "    \n",
    "    def calculate_salary(self,name,salary,project):\n",
    "        self.project=project\n",
    "        super().__init__(name,salary)\n",
    "        print(f\"Freelance Employee name:{self.name} , Salary per project:{self.project*self.salary}\")\n",
    "\n",
    "\n",
    "obj=Employee(\"ssn\",5000)\n",
    "\n",
    "obj1=FTEmployee(\"rr\",55)\n",
    "obj1.calculate_salary(\"Snn\",50000)\n",
    "\n",
    "obj1=PTEmployee(\"ww\",22)\n",
    "obj1.calculate_salary(\"Abin\",200,8) \n",
    "\n",
    "obj2=FLEmployee(\"Anu\",400)\n",
    "obj2.calculate_salary(\"Anu\",400,5)"
   ]
  },
  {
   "cell_type": "code",
   "execution_count": 111,
   "id": "ce94ffa4",
   "metadata": {},
   "outputs": [
    {
     "name": "stdout",
     "output_type": "stream",
     "text": [
      "name should not be empty\n",
      "-4 is not positive rollno\n",
      "200 is Invalid mark\n",
      "Name:Anu , Rollno:5 , Marks:44\n"
     ]
    }
   ],
   "source": [
    "class Student:\n",
    "    def __init__(self,name,rollno,marks):\n",
    "        self.__name=name\n",
    "        self.__rollno=rollno\n",
    "        self.__marks=marks\n",
    "        \n",
    "\n",
    "    def get_name(self):\n",
    "        if self.__name==\"\":\n",
    "            print(\"name should not be empty\")\n",
    "        else:\n",
    "            return self.__name\n",
    "        \n",
    "    \n",
    "    def get_rollno(self):\n",
    "        if self.__rollno<0:\n",
    "            print(f\"{self.__rollno} is not positive rollno\")\n",
    "        else:\n",
    "            return self.__rollno\n",
    "    \n",
    "    def get_marks(self):\n",
    "        if self.__marks<0 or self.__marks>100:\n",
    "            print(f\"{self.__mark} is Invalid mark\")\n",
    "        else:\n",
    "            return self.__marks\n",
    "    \n",
    "    \n",
    "    def set_name(self):\n",
    "        self.__name=\"Anu\"\n",
    "        if self.__name==\"\":\n",
    "            print(\"name should not be empty \")\n",
    "        else:\n",
    "            return self.__name\n",
    "    \n",
    "    def set_rollno(self):\n",
    "        if self.__rollno<0:\n",
    "            print(f\"{self.__rollno} is not positive rollno\")\n",
    "        self.__rollno=5\n",
    "        return self.__rollno\n",
    "    \n",
    "    def set_marks(self):\n",
    "        self.__marks=200\n",
    "        if self.__marks<0 or self.__marks>100:\n",
    "            print(f\"{self.__marks} is Invalid mark\")\n",
    "        else:\n",
    "            print(f\"{self.__marks}\")\n",
    "    \n",
    "    def display_details(self):\n",
    "        print(f\"Name:{self.__name} , Rollno:{self.__rollno} , Marks:{self.__marks}\")\n",
    "\n",
    "\n",
    "    \n",
    "\n",
    "\n",
    "s=Student(\"\",-4,45)\n",
    "s.get_name()\n",
    "s.get_rollno()\n",
    "s.get_marks()\n",
    "\n",
    "s1=Student(\"AN\",4,44)\n",
    "s1.set_name()\n",
    "\n",
    "s1.set_rollno()\n",
    "\n",
    "s2=Student(\"ss\",6,80)\n",
    "s2.set_marks()\n",
    "\n",
    "\n",
    "#s.display_details()\n",
    "s1.display_details()\n",
    "#s2.display_details()\n"
   ]
  },
  {
   "cell_type": "code",
   "execution_count": 196,
   "id": "7f0f6d4f",
   "metadata": {},
   "outputs": [
    {
     "name": "stdout",
     "output_type": "stream",
     "text": [
      "largest is: 90  and second largest is: 88\n"
     ]
    }
   ],
   "source": [
    "#second largest number\n",
    "\n",
    "l=[4,90,88,2]\n",
    "a=0\n",
    "b=0\n",
    "for i in range(len(l)):\n",
    "    if l[i]>a:\n",
    "        b=a\n",
    "        a=l[i]\n",
    "    elif l[i]<a and l[i]>b:\n",
    "        b=l[i]\n",
    "    else:\n",
    "        break\n",
    "print(\"largest is:\",a,\" and second largest is:\",b)"
   ]
  },
  {
   "cell_type": "code",
   "execution_count": 231,
   "id": "f1221c38",
   "metadata": {},
   "outputs": [
    {
     "name": "stdout",
     "output_type": "stream",
     "text": [
      "{1: 2, 2: 3, 3: 3, 4: 1, 5: 1}\n"
     ]
    }
   ],
   "source": [
    "#frequency using dictionary\n",
    "\n",
    "l=[1,1,2,2,2,2,2,3,4,2,2,5,1,3]\n",
    "d={}\n",
    "count=0\n",
    "for i in range(len(l)):   \n",
    "        #print(l[i])\n",
    "        if l[i] in d:\n",
    "            count=count+1\n",
    "            d[l[i]]=count\n",
    "        else:\n",
    "            count=1\n",
    "            d[l[i]]=count\n",
    "\n",
    "#print(count)\n",
    "print(d)\n",
    "    \n",
    "\n"
   ]
  }
 ],
 "metadata": {
  "kernelspec": {
   "display_name": "Python 3",
   "language": "python",
   "name": "python3"
  },
  "language_info": {
   "codemirror_mode": {
    "name": "ipython",
    "version": 3
   },
   "file_extension": ".py",
   "mimetype": "text/x-python",
   "name": "python",
   "nbconvert_exporter": "python",
   "pygments_lexer": "ipython3",
   "version": "3.13.7"
  }
 },
 "nbformat": 4,
 "nbformat_minor": 5
}
